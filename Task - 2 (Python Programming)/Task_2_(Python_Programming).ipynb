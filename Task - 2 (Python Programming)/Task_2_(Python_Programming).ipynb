{
  "nbformat": 4,
  "nbformat_minor": 0,
  "metadata": {
    "colab": {
      "name": "Task - 2 (Python Programming).ipynb",
      "provenance": [],
      "collapsed_sections": []
    },
    "kernelspec": {
      "name": "python3",
      "display_name": "Python 3"
    },
    "language_info": {
      "name": "python"
    }
  },
  "cells": [
    {
      "cell_type": "markdown",
      "metadata": {
        "id": "GHA_AfPruD5I"
      },
      "source": [
        "# Task - 2 (Python Programming)\n",
        "\n"
      ]
    },
    {
      "cell_type": "code",
      "metadata": {
        "colab": {
          "base_uri": "https://localhost:8080/"
        },
        "id": "FQ2mqN_af4JN",
        "outputId": "cef53112-0d79-488d-ef17-ea3a477dbbf2"
      },
      "source": [
        "# Question 01\n",
        "# Statement :- Lists Comprehensions\n",
        "\n",
        "x = int(input())\n",
        "y = int(input())\n",
        "z = int(input())\n",
        "n = int(input())\n",
        "\n",
        "print([[i,j,k] for i in range(x+1) for j in range(y+1) for k in range(z+1) if (i+j+k) != n])"
      ],
      "execution_count": 1,
      "outputs": [
        {
          "output_type": "stream",
          "text": [
            "1\n",
            "1\n",
            "1\n",
            "2\n",
            "[[0, 0, 0], [0, 0, 1], [0, 1, 0], [1, 0, 0], [1, 1, 1]]\n"
          ],
          "name": "stdout"
        }
      ]
    },
    {
      "cell_type": "code",
      "metadata": {
        "colab": {
          "base_uri": "https://localhost:8080/"
        },
        "id": "lyMFwkgFgCAn",
        "outputId": "344fbe4b-8e96-41cd-f09a-0aa918daaac3"
      },
      "source": [
        "# Question 02\n",
        "# Statement :- Find the Runner-Up Score\n",
        "\n",
        "n = int(input())\n",
        "arr = list(map(int, input().split()))[:n]\n",
        "print(sorted(set(arr))[-2])"
      ],
      "execution_count": 3,
      "outputs": [
        {
          "output_type": "stream",
          "text": [
            "5\n",
            "2 1 5 3 4 6\n",
            "4\n"
          ],
          "name": "stdout"
        }
      ]
    },
    {
      "cell_type": "code",
      "metadata": {
        "colab": {
          "base_uri": "https://localhost:8080/"
        },
        "id": "vY-Ib3-bgCEE",
        "outputId": "74c27605-d25b-470d-f092-d961a5471d92"
      },
      "source": [
        "# Question 03\n",
        "# Statement :- Nested Lists\n",
        "\n",
        "x = []\n",
        "y = []\n",
        "n = int(input())\n",
        "arr = [[input(), float(input())] for i in range(n)]\n",
        "\n",
        "for i in range(n):\n",
        "  x.append(arr[i][1])\n",
        "\n",
        "for i in range(n):\n",
        "  if arr[i][1] == sorted(set(x))[1]:\n",
        "    y.append(arr[i][0])\n",
        "  else:\n",
        "    pass\n",
        "\n",
        "print(*sorted(y), sep=\"\\n\")"
      ],
      "execution_count": 6,
      "outputs": [
        {
          "output_type": "stream",
          "text": [
            "5\n",
            "Harry\n",
            "37.21\n",
            "Berry\n",
            "37.21\n",
            "Tina\n",
            "37.2\n",
            "Akriti\n",
            "41\n",
            "Harsh\n",
            "39\n",
            "Berry\n",
            "Harry\n"
          ],
          "name": "stdout"
        }
      ]
    },
    {
      "cell_type": "code",
      "metadata": {
        "colab": {
          "base_uri": "https://localhost:8080/"
        },
        "id": "8f_KILywgCHb",
        "outputId": "0c796621-59ee-4433-9e77-d3bdfe6f8ddd"
      },
      "source": [
        "# Question 04\n",
        "# Statement :- Find the Percentage\n",
        "\n",
        "n = int(input())\n",
        "student_marks = {}\n",
        "for _ in range(n):\n",
        "  name, *line = input().split()\n",
        "  scores = list(map(float, line))\n",
        "  student_marks[name] = scores\n",
        "query_name = input()\n",
        "\n",
        "if query_name in student_marks:\n",
        "  try:\n",
        "    print(\"{:.2f}\".format(sum(student_marks[query_name])/len(student_marks[query_name])))\n",
        "  except ZeroDivisionError:\n",
        "    print(\"Marks are not mentioned for this Student.\")\n",
        "  else:\n",
        "    print(\"This Student is not Present.\")"
      ],
      "execution_count": 7,
      "outputs": [
        {
          "output_type": "stream",
          "text": [
            "3\n",
            "Krishna 67 68 69\n",
            "Arjun 70 98 63\n",
            "Malika 52 56 60\n",
            "Malika\n",
            "56.00\n",
            "This Student is not Present.\n"
          ],
          "name": "stdout"
        }
      ]
    },
    {
      "cell_type": "code",
      "metadata": {
        "colab": {
          "base_uri": "https://localhost:8080/"
        },
        "id": "uqQJY2GJgCJ2",
        "outputId": "10314895-47d9-44b7-9790-59124cb08f66"
      },
      "source": [
        "# Question 05\n",
        "# Statement :- Lists\n",
        "\n",
        "N = int(input())\n",
        "lst = []\n",
        "\n",
        "for i in range(N):\n",
        "  operation = input().strip().split(\" \")\n",
        "  if operation[0] == \"insert\":\n",
        "    lst.insert(int(operation[1]), int(operation[2]))\n",
        "  elif operation[0] == \"append\":\n",
        "    lst.append(int(operation[1]))\n",
        "  elif operation[0] == \"remove\":\n",
        "    lst.remove(int(operation[1]))\n",
        "  elif operation[0] == \"pop\":\n",
        "    lst.pop()\n",
        "  elif operation[0] == \"sort\":\n",
        "    lst.sort()\n",
        "  elif operation[0] == \"reverse\":\n",
        "    lst.reverse()\n",
        "  elif operation[0] == \"print\":\n",
        "    print(lst)"
      ],
      "execution_count": 2,
      "outputs": [
        {
          "output_type": "stream",
          "text": [
            "12\n",
            "insert 0 5\n",
            "insert 1 10\n",
            "insert 0 6\n",
            "print\n",
            "[6, 5, 10]\n",
            "remove 6\n",
            "append 9\n",
            "append 1\n",
            "sort\n",
            "print\n",
            "[1, 5, 9, 10]\n",
            "pop\n",
            "reverse\n",
            "print\n",
            "[9, 5, 1]\n"
          ],
          "name": "stdout"
        }
      ]
    },
    {
      "cell_type": "code",
      "metadata": {
        "colab": {
          "base_uri": "https://localhost:8080/"
        },
        "id": "gpi5F3qsgCLf",
        "outputId": "554417c4-06cc-46c4-b92f-5e797d0dfa96"
      },
      "source": [
        "# Question 06\n",
        "# Statement :- Tuples\n",
        "\n",
        "n = int(input())\n",
        "integer_list = tuple(list(map(int, input().split()))[:n])\n",
        "print(hash(integer_list))"
      ],
      "execution_count": 4,
      "outputs": [
        {
          "output_type": "stream",
          "text": [
            "2\n",
            "1 2\n",
            "3713081631934410656\n"
          ],
          "name": "stdout"
        }
      ]
    },
    {
      "cell_type": "code",
      "metadata": {
        "colab": {
          "base_uri": "https://localhost:8080/"
        },
        "id": "LFog5PHzgCM_",
        "outputId": "18cea32b-5850-49a2-f91c-d3ee86fb97f4"
      },
      "source": [
        "# Question 07\n",
        "# Statement :- Introduction of sets\n",
        "\n",
        "def average(array):\n",
        "  arr2 = set(array)\n",
        "  return (sum(arr2)/len(arr2))\n",
        "\n",
        "if __name__ == '__main__':\n",
        "  n = int(input())\n",
        "  arr = list(map(int, input().split()))[:n]\n",
        "  result = average(arr)\n",
        "  print(result)"
      ],
      "execution_count": 6,
      "outputs": [
        {
          "output_type": "stream",
          "text": [
            "10\n",
            "161 182 161 154 176 170 167 171 170 174\n",
            "169.375\n"
          ],
          "name": "stdout"
        }
      ]
    },
    {
      "cell_type": "code",
      "metadata": {
        "colab": {
          "base_uri": "https://localhost:8080/"
        },
        "id": "5NhbwFNFgCO2",
        "outputId": "aa70bcc9-b3d9-4318-ffaf-c7527c990c04"
      },
      "source": [
        "# Question 08\n",
        "# Statement :- No Idea!\n",
        "\n",
        "n, m = list(map(int, input().split()))\n",
        "n_ele = list(map(int, input().split()))[:n]\n",
        "m_ele_A = set(list(map(int, input().split()))[:m])\n",
        "m_ele_B = set(list(map(int, input().split()))[:m])\n",
        "result = []\n",
        "\n",
        "for i in n_ele:\n",
        "  if i in m_ele_A:\n",
        "    result.append(1)\n",
        "  elif i in m_ele_B:\n",
        "    result.append(-1)\n",
        "  else:\n",
        "    pass\n",
        "\n",
        "print(sum(result))"
      ],
      "execution_count": 8,
      "outputs": [
        {
          "output_type": "stream",
          "text": [
            "3 2\n",
            "1 5 3\n",
            "3 1\n",
            "5 7\n",
            "1\n"
          ],
          "name": "stdout"
        }
      ]
    },
    {
      "cell_type": "code",
      "metadata": {
        "colab": {
          "base_uri": "https://localhost:8080/"
        },
        "id": "AHGWV00cgQip",
        "outputId": "5bf052e6-3e01-46a3-9c56-1e862c090bec"
      },
      "source": [
        "# Question 9\n",
        "# Statement :- Symmetric Difference \n",
        "\n",
        "n = int(input())\n",
        "n_ele = list(map(int, input().split()))[:n]\n",
        "m = int(input())\n",
        "m_ele = list(map(int, input().split()))[:m]\n",
        "\n",
        "print(*(sorted((set(n_ele).difference(m_ele)).union(set(m_ele).difference(set(n_ele))))), sep=\"\\n\")"
      ],
      "execution_count": 9,
      "outputs": [
        {
          "output_type": "stream",
          "text": [
            "4\n",
            "2 4 5 9\n",
            "4\n",
            "2 4 11 12\n",
            "5\n",
            "9\n",
            "11\n",
            "12\n"
          ],
          "name": "stdout"
        }
      ]
    },
    {
      "cell_type": "code",
      "metadata": {
        "colab": {
          "base_uri": "https://localhost:8080/"
        },
        "id": "MrpALiV-gQkA",
        "outputId": "192e2b12-5c31-4e13-8a15-29b00cccb763"
      },
      "source": [
        "# Question 10\n",
        "# Statement :- Set.add()\n",
        "\n",
        "arr = []\n",
        "for i in range(int(input())):\n",
        "  arr.append(input())\n",
        "\n",
        "print(len(set(arr)))"
      ],
      "execution_count": 11,
      "outputs": [
        {
          "output_type": "stream",
          "text": [
            "7\n",
            "Uk\n",
            "China\n",
            "USA\n",
            "France\n",
            "New Zealand\n",
            "Uk\n",
            "France\n",
            "5\n"
          ],
          "name": "stdout"
        }
      ]
    },
    {
      "cell_type": "code",
      "metadata": {
        "colab": {
          "base_uri": "https://localhost:8080/"
        },
        "id": "mH_yWL0DgCFg",
        "outputId": "cfe87ab4-a1d1-4122-c7db-4d4070c9946d"
      },
      "source": [
        "# Question 11\n",
        "# Statement :- Set .discard(), .remove() and .pop()\n",
        "\n",
        "n = int(input())\n",
        "s = set(list(map(int, input().split()))[:n])\n",
        "\n",
        "for i in range(int(input())):\n",
        "  operation = input().strip().split(\" \")\n",
        "  if operation[0] == \"pop\":\n",
        "    s.pop()\n",
        "  elif operation[0] == \"discard\":\n",
        "    s.discard(int(operation[1]))\n",
        "  elif operation[0] == \"remove\":\n",
        "    s.remove(int(operation[1]))\n",
        "  else:\n",
        "    pass\n",
        "\n",
        "print(sum(s))"
      ],
      "execution_count": 41,
      "outputs": [
        {
          "output_type": "stream",
          "text": [
            "5\n",
            "1 2 3 4 5\n",
            "3\n",
            "pop\n",
            "remove 5\n",
            "discard 4\n",
            "5\n"
          ],
          "name": "stdout"
        }
      ]
    },
    {
      "cell_type": "code",
      "metadata": {
        "colab": {
          "base_uri": "https://localhost:8080/"
        },
        "id": "-WGaaDqlgQmJ",
        "outputId": "b48db471-090e-44f4-cffb-071c7e7471c8"
      },
      "source": [
        "# Question 12\n",
        "# Statement :- Set.union() Operation\n",
        "\n",
        "n = int(input())\n",
        "n_ele = list(map(int, input().split()))[:n]\n",
        "m = int(input())\n",
        "m_ele = list(map(int, input().split()))[:m]\n",
        "\n",
        "print(len(set(m_ele).union(set(n_ele))))"
      ],
      "execution_count": 12,
      "outputs": [
        {
          "output_type": "stream",
          "text": [
            "9\n",
            "1 2 3 4 5 6 7 8 9\n",
            "9\n",
            "10 1 2 3 11 21 55 6 8\n",
            "13\n"
          ],
          "name": "stdout"
        }
      ]
    },
    {
      "cell_type": "code",
      "metadata": {
        "colab": {
          "base_uri": "https://localhost:8080/"
        },
        "id": "xnT0MIpdgQp0",
        "outputId": "02e20b89-69e6-46b3-ff4e-5dbad15846f3"
      },
      "source": [
        "# Question 13\n",
        "# Statement :- Set.intersection() Operation\n",
        "\n",
        "n = int(input())\n",
        "n_ele = list(map(int, input().split()))[:n]\n",
        "b = int(input())\n",
        "b_ele = list(map(int, input().split()))[:b]\n",
        "\n",
        "print(len(set(n_ele).intersection(set(b_ele))))"
      ],
      "execution_count": 13,
      "outputs": [
        {
          "output_type": "stream",
          "text": [
            "9\n",
            "1 2 3 4 5 6 7 8 9\n",
            "9\n",
            "10 1 2 3 11 21 55 6 8\n",
            "5\n"
          ],
          "name": "stdout"
        }
      ]
    },
    {
      "cell_type": "code",
      "metadata": {
        "colab": {
          "base_uri": "https://localhost:8080/"
        },
        "id": "DbO_rU6rgZkB",
        "outputId": "d12097aa-4591-42ac-a25e-c247fa018a11"
      },
      "source": [
        "# Question 14\n",
        "# Statement :- Set.difference() Operation\n",
        "\n",
        "n = int(input())\n",
        "n_ele = list(map(int, input().split()))[:n]\n",
        "m = int(input())\n",
        "m_ele = list(map(int, input().split()))[:m]\n",
        "\n",
        "print(len(set(n_ele).difference(set(m_ele))))"
      ],
      "execution_count": 14,
      "outputs": [
        {
          "output_type": "stream",
          "text": [
            "9\n",
            "1 2 3 4 5 6 7 8 9\n",
            "9\n",
            "10 1 2 3 11 21 55 6 8\n",
            "4\n"
          ],
          "name": "stdout"
        }
      ]
    },
    {
      "cell_type": "code",
      "metadata": {
        "colab": {
          "base_uri": "https://localhost:8080/"
        },
        "id": "1ZdBf1AGgZn2",
        "outputId": "28592998-b986-4c32-aba5-fcf6d7f18eab"
      },
      "source": [
        "# Question 15\n",
        "# Statement :- Set.symmetric_difference() Operation\n",
        "\n",
        "n = int(input())\n",
        "n_ele = list(map(int, input().split()))[:n]\n",
        "m = int(input())\n",
        "m_ele = list(map(int, input().split()))[:m]\n",
        "\n",
        "print(len(set(n_ele).symmetric_difference(m_ele)))"
      ],
      "execution_count": 15,
      "outputs": [
        {
          "output_type": "stream",
          "text": [
            "9\n",
            "1 2 3 4 5 6 7 8 9\n",
            "9\n",
            "10 1 2 3 11 21 55 6 8\n",
            "8\n"
          ],
          "name": "stdout"
        }
      ]
    },
    {
      "cell_type": "code",
      "metadata": {
        "colab": {
          "base_uri": "https://localhost:8080/"
        },
        "id": "KMpdPaJygZzE",
        "outputId": "5ab1fb37-8791-47bc-adb7-898b3b7021ca"
      },
      "source": [
        "# Question 16\n",
        "# Statement :- Set Mutations\n",
        "\n",
        "setA_len = int(input())\n",
        "A = set(list(map(int, input().split()))[:setA_len])\n",
        "\n",
        "for i in range(int(input())):\n",
        "  operation = input().strip().split(\" \")\n",
        "  B = set(list(map(int, input().split()))[:int(operation[1])])\n",
        "  if operation[0] == \"intersection_update\":\n",
        "    A.intersection_update(B)\n",
        "  elif operation[0] == \"update\":\n",
        "    A.update(B)\n",
        "  elif operation[0] == \"symmetric_difference_update\":\n",
        "    A.symmetric_difference_update(B)\n",
        "  elif operation[0] == \"difference_update\":\n",
        "    A.difference_update(B)\n",
        "    \n",
        "print(sum(A))"
      ],
      "execution_count": 40,
      "outputs": [
        {
          "output_type": "stream",
          "text": [
            "16\n",
            "1 2 3 4 5 6 7 8 9 10 11 12 13 14 24 52\n",
            "4\n",
            "intersection_update 10\n",
            "2 3 5 6 8 9 1 4 7 11\n",
            "update 2\n",
            "55 66\n",
            "symmetric_difference_update 5\n",
            "22 7 35 62 58\n",
            "difference_update 7\n",
            "11 22 35 55 58 62 66\n",
            "38\n"
          ],
          "name": "stdout"
        }
      ]
    },
    {
      "cell_type": "code",
      "metadata": {
        "colab": {
          "base_uri": "https://localhost:8080/"
        },
        "id": "ByBHHw85gZ4w",
        "outputId": "82c3ae76-f605-4dec-e1ec-deb2ba5133f6"
      },
      "source": [
        "# Question 17\n",
        "# Statement :- The Captain's Room 1 2 3 6 5 4 4 2 5 3 6 1 6 5 3 2 4 1 2 5 1 4 3 6 8 4 3 1 5 6 2\n",
        "\n",
        "n = int(input())\n",
        "arr = list(map(int, input().split()))\n",
        "\n",
        "print((sum(set(arr))*n - sum(arr))//(n-1))\n"
      ],
      "execution_count": 30,
      "outputs": [
        {
          "output_type": "stream",
          "text": [
            "5\n",
            "1 2 3 6 5 4 4 2 5 3 6 1 6 5 3 2 4 1 2 5 1 4 3 6 8 4 3 1 5 6 2\n",
            "8\n",
            "113\n"
          ],
          "name": "stdout"
        }
      ]
    },
    {
      "cell_type": "code",
      "metadata": {
        "colab": {
          "base_uri": "https://localhost:8080/"
        },
        "id": "537GYhOtgaMN",
        "outputId": "ecc99f9d-08f6-4c91-bd53-e8c13ab891e4"
      },
      "source": [
        "# Question 18\n",
        "# Statement :- Check Subset\n",
        "\n",
        "lst = []\n",
        "\n",
        "for i in range(int(input())):\n",
        "  setA_len = int(input())\n",
        "  A = list(map(int, input().split()))[:setA_len]\n",
        "  setB_len = int(input())\n",
        "  B = list(map(int, input().split()))[:setB_len]\n",
        "\n",
        "  lst.append(\"True\" if (set(A).issubset(set(B))) else \"False\")\n",
        "\n",
        "print(*lst, sep=\"\\n\")"
      ],
      "execution_count": 18,
      "outputs": [
        {
          "output_type": "stream",
          "text": [
            "3\n",
            "5\n",
            "1 2 3 5 6\n",
            "9\n",
            "9 8 5 6 3 2 1 4 7\n",
            "1\n",
            "2\n",
            "5\n",
            "3 6 5 4 1\n",
            "7\n",
            "1 2 3 5 6 8 9\n",
            "3\n",
            "9 8 2\n",
            "True\n",
            "False\n",
            "False\n"
          ],
          "name": "stdout"
        }
      ]
    },
    {
      "cell_type": "code",
      "metadata": {
        "colab": {
          "base_uri": "https://localhost:8080/"
        },
        "id": "7ywXX6Wsgicx",
        "outputId": "19113bee-f434-4853-c117-ea42739234be"
      },
      "source": [
        "# Question 19\n",
        "# Statement :- Check Strict Superset\n",
        "\n",
        "A = set(input().split())\n",
        "flag = 0\n",
        "\n",
        "for i in range(int(input())):\n",
        "  B = set(input().split())\n",
        "\n",
        "  if not A.issuperset(B):\n",
        "    flag = 1\n",
        "  elif A.issuperset(B) and len(A)==len(B):\n",
        "    flag = 1\n",
        "\n",
        "print(\"True\" if flag == 0 else \"False\")"
      ],
      "execution_count": 16,
      "outputs": [
        {
          "output_type": "stream",
          "text": [
            "1 2 3 4 5 6 7 8 9 10 11 12 23 45 84 78\n",
            "2\n",
            "1 2 3 4 5\n",
            "100 11 12\n",
            "False\n"
          ],
          "name": "stdout"
        }
      ]
    }
  ]
}