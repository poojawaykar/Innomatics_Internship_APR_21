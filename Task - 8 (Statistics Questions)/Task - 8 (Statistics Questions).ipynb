{
  "nbformat": 4,
  "nbformat_minor": 0,
  "metadata": {
    "colab": {
      "name": "Task - 8 (Statistics Questions).ipynb",
      "provenance": [],
      "collapsed_sections": []
    },
    "kernelspec": {
      "name": "python3",
      "display_name": "Python 3"
    },
    "language_info": {
      "name": "python"
    }
  },
  "cells": [
    {
      "cell_type": "markdown",
      "metadata": {
        "id": "Aq5HIk9EztAt"
      },
      "source": [
        "# Task - 8 (Statistics Questions)"
      ]
    },
    {
      "cell_type": "code",
      "metadata": {
        "colab": {
          "base_uri": "https://localhost:8080/"
        },
        "id": "6GIhhq8mzTi_",
        "outputId": "5373bbf0-0fc0-4215-aeb9-fd92a54bf904"
      },
      "source": [
        "# Question :- 01\n",
        "# Statement :- Binomial Distribution I\n",
        "\n",
        "def fact(n):\n",
        "  if n == 0:\n",
        "    return 1\n",
        "  else:\n",
        "    return (n*fact(n-1))\n",
        "\n",
        "def comb(n, x):\n",
        "  res = fact(n)/(fact(x)*fact(n-x))\n",
        "  return res\n",
        "\n",
        "def b(x, n, p):\n",
        "  return comb(n, x) * p**x * (1-p)**(n-x)\n",
        "\n",
        "a, r = list(map(float, input().split()))\n",
        "odd = a/r\n",
        "print(round(sum([b(i, 6, odd/(1+odd)) for i in range(3, 7)]), 3))"
      ],
      "execution_count": 2,
      "outputs": [
        {
          "output_type": "stream",
          "text": [
            "1.09 1\n",
            "0.696\n"
          ],
          "name": "stdout"
        }
      ]
    },
    {
      "cell_type": "code",
      "metadata": {
        "colab": {
          "base_uri": "https://localhost:8080/"
        },
        "id": "xzv2mWPAGVta",
        "outputId": "cf972ced-933e-4469-f5b0-c6a8aabc6e04"
      },
      "source": [
        "# Question :- 02\n",
        "# Statement :- Binomial Distribution II\n",
        "\n",
        "def fact(n):\n",
        "  if n==0:\n",
        "    return 1\n",
        "  else:\n",
        "    return (n*fact(n-1))\n",
        "\n",
        "def comb(n, x):\n",
        "  res = fact(n)/(fact(x)*fact(n-x))\n",
        "  return res\n",
        "\n",
        "def b(x, n, p):\n",
        "  return comb(n, x) * p**x * (1-p)**(n-x)\n",
        "\n",
        "p, n = list(map(int, input().split()))\n",
        "odd = p/100\n",
        "no_more_than_2 = []\n",
        "at_least_2 = []\n",
        "\n",
        "for i in range(3):\n",
        "  no_more_than_2.append(b(i, n, odd))\n",
        "\n",
        "for i in range(2, n+1):\n",
        "  at_least_2.append(b(i, n, odd))\n",
        "\n",
        "print(round(sum(no_more_than_2), 3))\n",
        "print(round(sum(at_least_2), 3))"
      ],
      "execution_count": 4,
      "outputs": [
        {
          "output_type": "stream",
          "text": [
            "12 10\n",
            "0.891\n",
            "0.342\n"
          ],
          "name": "stdout"
        }
      ]
    },
    {
      "cell_type": "code",
      "metadata": {
        "colab": {
          "base_uri": "https://localhost:8080/"
        },
        "id": "ablFXo9WGVvi",
        "outputId": "1528056f-b0cc-4b24-9f5d-8bfe8f00b404"
      },
      "source": [
        "# Question :- 03\n",
        "# Statement :- Normal Distribution I\n",
        "\n",
        "import math\n",
        "\n",
        "def normal_dist(x, mean, std_dev):\n",
        "  probability_density = 0.5 + 0.5 * math.erf((x-mean)/(std_dev*(2**0.5)))\n",
        "  return probability_density\n",
        "\n",
        "mean, std_dev = list(map(float, input().split()))\n",
        "print(normal_dist(19.5, mean, std_dev))\n",
        "print(normal_dist(22, mean, std_dev) - normal_dist(20, mean, std_dev))"
      ],
      "execution_count": 5,
      "outputs": [
        {
          "output_type": "stream",
          "text": [
            "20 2\n",
            "0.4012936743170763\n",
            "0.3413447460685429\n"
          ],
          "name": "stdout"
        }
      ]
    },
    {
      "cell_type": "code",
      "metadata": {
        "colab": {
          "base_uri": "https://localhost:8080/"
        },
        "id": "_K2Vrpt-GVy3",
        "outputId": "e469da02-4c7d-4438-aedb-3abc144ae0e7"
      },
      "source": [
        "# Question :- 04\n",
        "# Statement :- Normal Distribution II\n",
        "\n",
        "import math\n",
        "mean = 70\n",
        "std_dev = 10\n",
        "x = 80\n",
        "y = 60\n",
        "\n",
        "def normal_dist(x, mean, std_dev):\n",
        "  probability_density = 0.5 + 0.5*math.erf((x-mean)/(std_dev*(2**0.5)))\n",
        "  return probability_density\n",
        "\n",
        "print(round(100 - normal_dist(80, mean, std_dev)), 2)\n",
        "print(round(100 - normal_dist(60, mean, std_dev)), 2)\n",
        "print(round(normal_dist(60, mean, std_dev), 2))"
      ],
      "execution_count": 6,
      "outputs": [
        {
          "output_type": "stream",
          "text": [
            "99 2\n",
            "100 2\n",
            "0.16\n"
          ],
          "name": "stdout"
        }
      ]
    },
    {
      "cell_type": "code",
      "metadata": {
        "colab": {
          "base_uri": "https://localhost:8080/"
        },
        "id": "5RNJGL4yM_Sl",
        "outputId": "5b499818-7ee0-46e8-89e8-daa04e628a52"
      },
      "source": [
        "# Question :- 05\n",
        "# Statement :- The Central Limit Theorem I\n",
        "\n",
        "import math\n",
        "weight = 9800\n",
        "no_of_boxes = 49\n",
        "weighted_mean = 205\n",
        "std_dev = 15\n",
        "\n",
        "mean = no_of_boxes * weighted_mean\n",
        "std_dev1 = no_of_boxes**0.5 * std_dev\n",
        "\n",
        "probability = 0.5 + 0.5*math.erf((weight-mean)/(std_dev1*(2**0.5)))\n",
        "print(round(probability, 4))"
      ],
      "execution_count": 7,
      "outputs": [
        {
          "output_type": "stream",
          "text": [
            "0.0098\n"
          ],
          "name": "stdout"
        }
      ]
    },
    {
      "cell_type": "code",
      "metadata": {
        "colab": {
          "base_uri": "https://localhost:8080/"
        },
        "id": "osmwNfJTM_Wy",
        "outputId": "3834560d-3c75-48c1-c09f-415c756a6a69"
      },
      "source": [
        "# Question :- 06\n",
        "# Statement :- The Central Limit Theorem II\n",
        "\n",
        "no_of_tickets = 250\n",
        "no_of_students = 100\n",
        "mean = 2.4\n",
        "std_dev = 2.0\n",
        "\n",
        "mean1 = mean * no_of_students\n",
        "std_dev1 = std_dev * no_of_students**0.5\n",
        "\n",
        "probability = 0.5 + 0.5*math.erf((no_of_tickets-mean1)/(std_dev1*(2**0.5)))\n",
        "print(round(probability, 4))"
      ],
      "execution_count": 8,
      "outputs": [
        {
          "output_type": "stream",
          "text": [
            "0.6915\n"
          ],
          "name": "stdout"
        }
      ]
    },
    {
      "cell_type": "code",
      "metadata": {
        "colab": {
          "base_uri": "https://localhost:8080/"
        },
        "id": "jVDdRVYmM_kt",
        "outputId": "fd29f222-e4ba-4528-cda0-118e9637b354"
      },
      "source": [
        "# Question :- 07\n",
        "# Statement :- The Central Limit Theorem III\n",
        "\n",
        "import math\n",
        "\n",
        "mean = 500\n",
        "std_dev = 80\n",
        "z = 1.96\n",
        "n = 100\n",
        "\n",
        "std_dev1 = std_dev/(n**0.5)\n",
        "A = mean - z * std_dev1\n",
        "B = mean + z * std_dev1\n",
        "\n",
        "print(round(A, 2))\n",
        "print(round(B, 2))"
      ],
      "execution_count": 9,
      "outputs": [
        {
          "output_type": "stream",
          "text": [
            "484.32\n",
            "515.68\n"
          ],
          "name": "stdout"
        }
      ]
    },
    {
      "cell_type": "code",
      "metadata": {
        "colab": {
          "base_uri": "https://localhost:8080/"
        },
        "id": "qDrEtptSSNXr",
        "outputId": "70672f12-4b88-41d6-a8f5-93c1ef246b0e"
      },
      "source": [
        "# Question :- 08\n",
        "# Statement :- Pearson Correlation Coefficient I\n",
        "\n",
        "n = int(input())\n",
        "X = list(map(float, input().split()))[:n]\n",
        "Y = list(map(float, input().split()))[:n]\n",
        "sumX = 0\n",
        "sumY = 0\n",
        "num = 0\n",
        "\n",
        "meanX = sum(X)/n\n",
        "meanY = sum(Y)/n\n",
        "\n",
        "for i in range(n):\n",
        "  sumX += (X[i]-meanX) * (X[i]-meanX)\n",
        "\n",
        "for i in range(n):\n",
        "  sumY += (Y[i]-meanY) * (Y[i]-meanY)\n",
        "\n",
        "std_devX = (sumX/n)**0.5\n",
        "std_devY = (sumY/n)**0.5\n",
        "\n",
        "for i in range(n):\n",
        "  num += ((X[i]-meanX) * (Y[i]-meanY))\n",
        "\n",
        "s = num/(n * std_devX * std_devY)\n",
        "print(round(s, 3))"
      ],
      "execution_count": 11,
      "outputs": [
        {
          "output_type": "stream",
          "text": [
            "10\n",
            "10 9.8 8 7.8 7.7 7 6 5 4 2\n",
            "200 44 32 24 22 17 15 12 8 4\n",
            "0.612\n"
          ],
          "name": "stdout"
        }
      ]
    },
    {
      "cell_type": "code",
      "metadata": {
        "colab": {
          "base_uri": "https://localhost:8080/"
        },
        "id": "Y80hohWGSNgl",
        "outputId": "3b165698-1c36-49c7-efb4-566c3978d082"
      },
      "source": [
        "# Question :- 09\n",
        "# Statement :- Least Square Regression Line\n",
        "\n",
        "n = 5\n",
        "x = []\n",
        "y = []\n",
        "sumx = 0\n",
        "sumy = 0\n",
        "ssum = 0\n",
        "sumxy = 0\n",
        "\n",
        "for j in range(n):\n",
        "  i = list(map(int, input().split()))\n",
        "  x.append(i[0])\n",
        "  y.append(i[1])\n",
        "\n",
        "sumx = sum(x)\n",
        "sumy = sum(y)\n",
        "meanx = sumx/len(x)\n",
        "meany = sumy/len(y)\n",
        "\n",
        "for j in range(len(x)):\n",
        "  ssum += x[j]*x[j]\n",
        "\n",
        "for j in range(n):\n",
        "  sumxy += x[j]*y[j]\n",
        "\n",
        "b = (5.0*sumxy - sumx*sumy)/(5.0*ssum - sumx*sumx)\n",
        "a = meany - b*meanx\n",
        "\n",
        "print(round(a+b*80), 3)"
      ],
      "execution_count": 12,
      "outputs": [
        {
          "output_type": "stream",
          "text": [
            "95 85\n",
            "85 95\n",
            "80 70\n",
            "70 65\n",
            "60 70\n",
            "78 3\n"
          ],
          "name": "stdout"
        }
      ]
    },
    {
      "cell_type": "code",
      "metadata": {
        "colab": {
          "base_uri": "https://localhost:8080/"
        },
        "id": "Gk2n1dJjSNqk",
        "outputId": "50239b6a-7cdd-4041-d1e0-0d11e91288b4"
      },
      "source": [
        "# Question :- 10\n",
        "# Statement :- Multiple Linear Regression\n",
        "\n",
        "from sklearn import linear_model\n",
        "\n",
        "num = list(map(int, str.split(input(), \" \")))\n",
        "m , n = num[0], num[1]\n",
        "\n",
        "dataset = [list(float(x) for x in input().split()) for i in range(n)]\n",
        "\n",
        "x = [[item[i] for i in range(m)] for item in dataset]\n",
        "y = [item[-1] for item in dataset]\n",
        "\n",
        "lm = linear_model.LinearRegression()\n",
        "lm.fit(x, y)"
      ],
      "execution_count": 14,
      "outputs": [
        {
          "output_type": "stream",
          "text": [
            "2 7\n",
            "0.18 0.89 109.85\n",
            "1.0 0.26 155.72\n",
            "0.92 0.11 137.66\n",
            "0.07 0.37 76.17\n",
            "0.85 0.16 139.75\n",
            "0.99 0.41 162.6\n",
            "0.87 0.47 151.77\n"
          ],
          "name": "stdout"
        },
        {
          "output_type": "execute_result",
          "data": {
            "text/plain": [
              "LinearRegression(copy_X=True, fit_intercept=True, n_jobs=None, normalize=False)"
            ]
          },
          "metadata": {
            "tags": []
          },
          "execution_count": 14
        }
      ]
    }
  ]
}