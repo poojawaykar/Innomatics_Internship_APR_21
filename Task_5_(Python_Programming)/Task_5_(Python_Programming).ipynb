{
  "nbformat": 4,
  "nbformat_minor": 0,
  "metadata": {
    "colab": {
      "name": "Task - 5 (Python Programming).ipynb",
      "provenance": [],
      "collapsed_sections": []
    },
    "kernelspec": {
      "name": "python3",
      "display_name": "Python 3"
    },
    "language_info": {
      "name": "python"
    }
  },
  "cells": [
    {
      "cell_type": "markdown",
      "metadata": {
        "id": "l6XJuBTPOVSi"
      },
      "source": [
        "# Task - 5 (Python Programming)"
      ]
    },
    {
      "cell_type": "code",
      "metadata": {
        "colab": {
          "base_uri": "https://localhost:8080/"
        },
        "id": "K9cVN8LZ1SIG",
        "outputId": "35bd183d-52ed-4cac-b9d8-7f64d996d027"
      },
      "source": [
        "# Question 01\n",
        "# Statement :- Detecting Floating Point Number\n",
        "\n",
        "import re\n",
        "lst = []\n",
        "for i in range(int(input())):\n",
        "  lst.append(input())\n",
        "\n",
        "for i in lst:\n",
        "  print(bool(re.match(r'^[-+]?[0-9]*\\.[0-9]+$', i)))\n"
      ],
      "execution_count": null,
      "outputs": [
        {
          "output_type": "stream",
          "text": [
            "4\n",
            "-6.4\n",
            ".6\n",
            "5\n",
            "pp\n",
            "True\n",
            "True\n",
            "False\n",
            "False\n"
          ],
          "name": "stdout"
        }
      ]
    },
    {
      "cell_type": "code",
      "metadata": {
        "colab": {
          "base_uri": "https://localhost:8080/"
        },
        "id": "84iZYCAI1Xk6",
        "outputId": "a4ec324f-c9ef-4cf7-b6b5-e7c579c53fd2"
      },
      "source": [
        "# Question 02\n",
        "# Statement :- Re.split()\n",
        "\n",
        "import re\n",
        "regex_pattern = r\"[.,]+\"\n",
        "print(\"\\n\".join(re.split(regex_pattern, input())))"
      ],
      "execution_count": null,
      "outputs": [
        {
          "output_type": "stream",
          "text": [
            "100.000,000,000\n",
            "100\n",
            "000\n",
            "000\n",
            "000\n"
          ],
          "name": "stdout"
        }
      ]
    },
    {
      "cell_type": "code",
      "metadata": {
        "id": "YhXerPcs1Xmg",
        "colab": {
          "base_uri": "https://localhost:8080/"
        },
        "outputId": "eaba6c57-1d98-43c9-efb8-5917541a13d8"
      },
      "source": [
        "# Question 03\n",
        "# Statement :- Group(), Groups() and Groupdict()\n",
        "\n",
        "import re\n",
        "s = input()\n",
        "value = re.search(r'(\\w(?!_))\\1+', s)\n",
        "if value:\n",
        "  print(value.group(1))\n",
        "else:\n",
        "  print(-1)"
      ],
      "execution_count": null,
      "outputs": [
        {
          "output_type": "stream",
          "text": [
            "..hkaui223n4kj444\n",
            "2\n"
          ],
          "name": "stdout"
        }
      ]
    },
    {
      "cell_type": "code",
      "metadata": {
        "id": "w2tiYyKm1Xom",
        "colab": {
          "base_uri": "https://localhost:8080/"
        },
        "outputId": "1e7a75e8-59ec-4552-bd60-1c7da7d7880a"
      },
      "source": [
        "# Question 04\n",
        "# Statement :- Re.findall() and Re.finditer()\n",
        "\n",
        "import re\n",
        "\n",
        "n = input()\n",
        "m = re.findall(r'(?=([^AEIOUaeiou\\+\\- ][AEIOUaeiou]{2,}[^AEIOUaeiou\\+\\- ]))', n)\n",
        "\n",
        "for i in m:\n",
        "  print(i[1:-1])\n",
        "if (len(m)==0):\n",
        "  print(-1)"
      ],
      "execution_count": null,
      "outputs": [
        {
          "output_type": "stream",
          "text": [
            "reedioidmjfklaeil\n",
            "ee\n",
            "ioi\n",
            "aei\n"
          ],
          "name": "stdout"
        }
      ]
    },
    {
      "cell_type": "code",
      "metadata": {
        "id": "dZWmGwm61Xp3",
        "colab": {
          "base_uri": "https://localhost:8080/"
        },
        "outputId": "7977a7b8-7abc-4019-aaaf-fc62ff4ff456"
      },
      "source": [
        "# Question 05\n",
        "# Statement :- Re.start() and Re.end()\n",
        "\n",
        "import re\n",
        "\n",
        "m, n = input().strip(), input().strip()\n",
        "\n",
        "if not re.search(re.compile(f'(?={n})'), m):\n",
        "  print((-1, -1))\n",
        "else:\n",
        "  for r in re.finditer(re.compile(f'(?={n})'), m):\n",
        "    start, end = r.span()\n",
        "    print((start, end+len(n)-1))"
      ],
      "execution_count": 3,
      "outputs": [
        {
          "output_type": "stream",
          "text": [
            "aaadaa\n",
            "aa\n",
            "(0, 1)\n",
            "(1, 2)\n",
            "(4, 5)\n"
          ],
          "name": "stdout"
        }
      ]
    },
    {
      "cell_type": "code",
      "metadata": {
        "id": "8iYAgL8f1XrO",
        "colab": {
          "base_uri": "https://localhost:8080/"
        },
        "outputId": "7ab69024-c5d4-422e-f16d-93145fb57141"
      },
      "source": [
        "# Question 06\n",
        "# Statement :- Regex Substitution\n",
        "\n",
        "import re\n",
        "\n",
        "for i in range(int(input())):\n",
        "  print(re.sub(r'(?<= )\\|\\|(?= )', \"or\", re.sub(r'(?<= )&&(?= )', \"add\", input())))"
      ],
      "execution_count": 8,
      "outputs": [
        {
          "output_type": "stream",
          "text": [
            "6\n",
            "a=1;\n",
            "a=1;\n",
            "b=input();\n",
            "b=input();\n",
            "if a+b>0 && a-b<0:\n",
            "if a+b>0 add a-b<0:\n",
            "start()\n",
            "start()\n",
            "elif a*b>10 || a/b<1:\n",
            "elif a*b>10 or a/b<1:\n",
            "stop()\n",
            "stop()\n"
          ],
          "name": "stdout"
        }
      ]
    },
    {
      "cell_type": "code",
      "metadata": {
        "id": "zHiL7j5W1Xvy",
        "colab": {
          "base_uri": "https://localhost:8080/"
        },
        "outputId": "433aca14-b5a9-4929-a5bc-c17b3f381f90"
      },
      "source": [
        "# Question 07\n",
        "# Statement :- Validating Roman Numerals\n",
        "\n",
        "import re\n",
        "\n",
        "regex_pattern = r\"^M{0,3}(CM|CD|D?C{0,3})(XC|XL|L?X{0,3})(IX|IV|V?I{0,3})$\"\n",
        "print(str(bool(re.match(regex_pattern, input()))))"
      ],
      "execution_count": 9,
      "outputs": [
        {
          "output_type": "stream",
          "text": [
            "CDXXI\n",
            "True\n"
          ],
          "name": "stdout"
        }
      ]
    },
    {
      "cell_type": "code",
      "metadata": {
        "id": "DjIi0ZeX2wXg",
        "colab": {
          "base_uri": "https://localhost:8080/"
        },
        "outputId": "dce3b06e-1a5e-4e25-8ad1-839ad5dad625"
      },
      "source": [
        "# Question 08\n",
        "# Statement :- Validating Phone Numbers\n",
        "\n",
        "import re\n",
        "\n",
        "def checker(contact):\n",
        "  pattern = r\"[789]\\d{9}$\"\n",
        "  if re.match(pattern, contact):\n",
        "    return \"YES\"\n",
        "  else:\n",
        "    return \"NO\"\n",
        "\n",
        "for i in range(int(input())):\n",
        "  print(checker(input()))"
      ],
      "execution_count": 10,
      "outputs": [
        {
          "output_type": "stream",
          "text": [
            "2\n",
            "9867546322\n",
            "YES\n",
            "4578679043\n",
            "NO\n"
          ],
          "name": "stdout"
        }
      ]
    },
    {
      "cell_type": "code",
      "metadata": {
        "id": "3T-1TXnk2wc3",
        "colab": {
          "base_uri": "https://localhost:8080/"
        },
        "outputId": "2d90e37d-707e-4f0f-9f74-ee6a49831eb3"
      },
      "source": [
        "# Question 09\n",
        "# Statement :- Validating and Parsing Email Address\n",
        "\n",
        "import re\n",
        "\n",
        "for i in range(int(input())):\n",
        "  line = input()\n",
        "  name, email = line.split(\" \")\n",
        "  pattern = \"<[a-z][a-zA-Z0-9\\-\\.\\_]+@[a-zA-Z]+\\.[a-zA-Z]{1,3}>\"\n",
        "  if bool(re.match(pattern, email)):\n",
        "    print(name, email)"
      ],
      "execution_count": 13,
      "outputs": [
        {
          "output_type": "stream",
          "text": [
            "2\n",
            "riys <riya@gmail.com>\n",
            "riys <riya@gmail.com>\n",
            "robin <robin!jhgmail.com>\n"
          ],
          "name": "stdout"
        }
      ]
    },
    {
      "cell_type": "code",
      "metadata": {
        "id": "1Km91zw43HCB",
        "colab": {
          "base_uri": "https://localhost:8080/"
        },
        "outputId": "ca2a9d0d-66cf-4034-b4bc-b9ada7ec38dd"
      },
      "source": [
        "# Question 10\n",
        "# Statement :- Hex Color Code\n",
        "\n",
        "import re\n",
        "in_css = False\n",
        "for i in range(int(input())):\n",
        "  line = input()\n",
        "  if '{' in line:\n",
        "    in_css = True\n",
        "  elif '}' in line:\n",
        "    in_css = False\n",
        "  elif in_css:\n",
        "    for color in re.findall('#[0-9a-fA-F]{3,6}', line):\n",
        "      print(color)\n"
      ],
      "execution_count": 15,
      "outputs": [
        {
          "output_type": "stream",
          "text": [
            "5\n",
            "#cab\n",
            "{\n",
            "backgroud-color : #ABC;\n",
            "#ABC\n",
            "border : 2px dashed #fff;\n",
            "#fff\n",
            "}\n"
          ],
          "name": "stdout"
        }
      ]
    },
    {
      "cell_type": "code",
      "metadata": {
        "id": "b4zi9MyM3HIj",
        "colab": {
          "base_uri": "https://localhost:8080/"
        },
        "outputId": "3c547b3a-9928-4600-c513-68d39ad8ad06"
      },
      "source": [
        "# Question 11\n",
        "# Statement :- HTML Parser Part - 1\n",
        "\n",
        "from html.parser import HTMLParser\n",
        "\n",
        "class MyHTMLParser(HTMLParser):\n",
        "\n",
        "  def handle_starttag(self, tag, attrs):\n",
        "    print('Start :', tag)\n",
        "    for attr in attrs:\n",
        "      print('->',' > '.join(map(str, attr)))\n",
        "\n",
        "  def handle_endtag(self, tag):\n",
        "    print('End   :', tag)\n",
        "\n",
        "  def handle_startendtag(self, tag, attrs):\n",
        "    print('Empty :', tag)\n",
        "    for attr in attrs:\n",
        "      print('->',' > '.join(map(str, attr)))\n",
        "\n",
        "html = \"\"\n",
        "for i in range(int(input())):\n",
        "  html += input()\n",
        "\n",
        "parser = MyHTMLParser()\n",
        "parser.feed(html)\n",
        "parser.close()"
      ],
      "execution_count": 16,
      "outputs": [
        {
          "output_type": "stream",
          "text": [
            "2\n",
            "<html><head><title>HTML Parse - I </title></head>\n",
            "<body data-model-target class='1'><h1>Hackerrank</h1><br/></body></html>\n",
            "Start : html\n",
            "Start : head\n",
            "Start : title\n",
            "End   : title\n",
            "End   : head\n",
            "Start : body\n",
            "-> data-model-target > None\n",
            "-> class > 1\n",
            "Start : h1\n",
            "End   : h1\n",
            "Empty : br\n",
            "End   : body\n",
            "End   : html\n"
          ],
          "name": "stdout"
        }
      ]
    },
    {
      "cell_type": "code",
      "metadata": {
        "id": "nP-z9-Wg3PUQ",
        "colab": {
          "base_uri": "https://localhost:8080/"
        },
        "outputId": "33211315-c1ce-434a-e7e1-9c2520565639"
      },
      "source": [
        "# Question 12\n",
        "# Statement :- HTML Parser Part - 2\n",
        "\n",
        "from html.parser import HTMLParser\n",
        "\n",
        "class MyHTMLParser(HTMLParser):\n",
        "\n",
        "  def handle_comment(self, data):\n",
        "    if data != '\\n':\n",
        "      print(\">>> Single-line Comment\")\n",
        "      print(data)\n",
        "    else:\n",
        "      print(\">>> Multi-line Comment\")\n",
        "      print(data)\n",
        "\n",
        "  def handle_data(self, data):\n",
        "    if data != '\\n':\n",
        "      print(\">>> Data\")\n",
        "      print(data)\n",
        "\n",
        "html = \"\"\n",
        "for i in range(int(input())):\n",
        "  html += input().rstrip()\n",
        "  html += '\\n'\n",
        "\n",
        "parser = MyHTMLParser()\n",
        "parser.feed(html)\n",
        "parser.close()"
      ],
      "execution_count": 17,
      "outputs": [
        {
          "output_type": "stream",
          "text": [
            "4\n",
            "<!--[if IE 9]>IE9-specific content\n",
            "<![endif]-->\n",
            "<div> Welcome to HackerRank</div>\n",
            "<!--[if IE 9]>IE9-specific content<![endif]-->\n",
            ">>> Single-line Comment\n",
            "[if IE 9]>IE9-specific content\n",
            "<![endif]\n",
            ">>> Data\n",
            " Welcome to HackerRank\n",
            ">>> Single-line Comment\n",
            "[if IE 9]>IE9-specific content<![endif]\n"
          ],
          "name": "stdout"
        }
      ]
    },
    {
      "cell_type": "code",
      "metadata": {
        "id": "ko0VFpXA3PXX",
        "colab": {
          "base_uri": "https://localhost:8080/"
        },
        "outputId": "30c74714-ccfe-4158-ac85-a311ec5efd62"
      },
      "source": [
        "# Question 13\n",
        "# Statement :- Detect HTML Tags, Attributes and Attribute Values\n",
        "\n",
        "from html.parser import HTMLParser\n",
        "\n",
        "class MyHTMLParser(HTMLParser):\n",
        "\n",
        "  def handle_starttag(self, tag, attrs):\n",
        "    print(tag)\n",
        "    for at in attrs:\n",
        "      print(\"-> {} > {}\".format(at[0], at[1]))\n",
        "\n",
        "  def handle_startendtag(self, tag, attrs):\n",
        "    print(tag)\n",
        "    for at in attrs:\n",
        "      print(\"-> {} > {}\".format(st[0], at[1]))\n",
        "\n",
        "html = \"\"\n",
        "for i in range(int(input())):\n",
        "  html += input().rstrip()\n",
        "  html += '\\n'\n",
        "\n",
        "parser = MyHTMLParser()\n",
        "parser.feed(html)\n",
        "parser.close()"
      ],
      "execution_count": 18,
      "outputs": [
        {
          "output_type": "stream",
          "text": [
            "5\n",
            "<head>\n",
            "<title>HTML</title>\n",
            "</head>\n",
            "<object type=\"application/x-flash\" data=\"your-file.swf\" width=\"0\" height=\"0\">\n",
            "</object>\n",
            "head\n",
            "title\n",
            "object\n",
            "-> type > application/x-flash\n",
            "-> data > your-file.swf\n",
            "-> width > 0\n",
            "-> height > 0\n"
          ],
          "name": "stdout"
        }
      ]
    },
    {
      "cell_type": "code",
      "metadata": {
        "id": "gqJ_4W5l3cYY",
        "colab": {
          "base_uri": "https://localhost:8080/"
        },
        "outputId": "834be095-2ca0-4020-c8e5-714ffcde8b84"
      },
      "source": [
        "# Question 14\n",
        "# Statement :- Validating UID\n",
        "\n",
        "for i in range(int(input())):\n",
        "  a = str(input())\n",
        "  c = 0\n",
        "  for i in a:\n",
        "    if(i.isupper()):\n",
        "      c += 1\n",
        "  if(c > 1):\n",
        "    d = 0\n",
        "    for j in a:\n",
        "      if(j.isnumeric()):\n",
        "        d += 1\n",
        "    if(d > 2):\n",
        "      if(a.isalnum()):\n",
        "        if(len(a) == 10):\n",
        "          t = 0\n",
        "          for k in a:\n",
        "            for h in a:\n",
        "              if(k == h):\n",
        "                t += 1\n",
        "          if(t == 10):\n",
        "            print(\"Valid\")\n",
        "          else:\n",
        "            print(\"Invalid\")\n",
        "        else:\n",
        "          print(\"Invalid\")\n",
        "      else:\n",
        "        print(\"Invalid\")\n",
        "    else:\n",
        "      print(\"Invalid\")\n",
        "  else:\n",
        "    print(\"Invalid\")\n",
        "    \n",
        "  \n"
      ],
      "execution_count": 19,
      "outputs": [
        {
          "output_type": "stream",
          "text": [
            "2\n",
            "B1CD102354\n",
            "Invalid\n",
            "B1CDEF2354\n",
            "Valid\n"
          ],
          "name": "stdout"
        }
      ]
    },
    {
      "cell_type": "code",
      "metadata": {
        "id": "qCd3E16I3cbe",
        "colab": {
          "base_uri": "https://localhost:8080/"
        },
        "outputId": "13487064-3add-44ae-f1c8-b01b18ad6628"
      },
      "source": [
        "# Question 15\n",
        "# Statement :- Validating Credit Card Numbers\n",
        "\n",
        "def checkValidity(num):\n",
        "  temp = num.split(\"-\")\n",
        "  pstr = \"\".join(temp)\n",
        "  if num[0] in \"456\":\n",
        "    if len(num) == 16 or len(num) == 19:\n",
        "      chkStr = \"1234567890-\"\n",
        "      for x in num:\n",
        "        if x not in chkStr:\n",
        "          return False\n",
        "      if len(num) == 19:\n",
        "        chkStr2 = \"1234567890\"\n",
        "        for x in temp:\n",
        "          if len(x) != 4:\n",
        "            return False\n",
        "      for x in range(len(pstr)-4):\n",
        "        if pstr[x:x+4] == pstr[x]*4:\n",
        "          return False\n",
        "      return True\n",
        "  return False\n",
        "\n",
        "for x in range(int(input())):\n",
        "  if(checkValidity(input())):\n",
        "    print(\"Valid\")\n",
        "  else:\n",
        "    print(\"Invalid\")\n"
      ],
      "execution_count": 21,
      "outputs": [
        {
          "output_type": "stream",
          "text": [
            "3\n",
            "4123456789123456\n",
            "Valid\n",
            "5123-4567-8912-3456\n",
            "Valid\n",
            "61234-567-8912-3456\n",
            "Invalid\n"
          ],
          "name": "stdout"
        }
      ]
    },
    {
      "cell_type": "code",
      "metadata": {
        "id": "TGfn0cwY3ucb",
        "colab": {
          "base_uri": "https://localhost:8080/"
        },
        "outputId": "1ac47652-9a77-4718-ff59-33ca8fecdedb"
      },
      "source": [
        "# Question 16\n",
        "# Statement :- Validating Postal Codes\n",
        "\n",
        "import re\n",
        "\n",
        "p = input()\n",
        "regex_integer_in_range = r'^[0-9][\\d]{5}$'\n",
        "regex_alternating_repetitive_digit_pair = r'(\\d)(?=\\d\\1)'\n",
        "print(bool(re.match(regex_integer_in_range, p)) and len(re.findall(regex_alternating_repetitive_digit_pair, p)) < 2)\n"
      ],
      "execution_count": 23,
      "outputs": [
        {
          "output_type": "stream",
          "text": [
            "110000\n",
            "False\n"
          ],
          "name": "stdout"
        }
      ]
    },
    {
      "cell_type": "code",
      "metadata": {
        "id": "oh3HMmgr3ufV",
        "colab": {
          "base_uri": "https://localhost:8080/"
        },
        "outputId": "8bfad7c3-c2e8-437f-9321-ae67a9966ac1"
      },
      "source": [
        "# Question\n",
        "# Statement :- Matrix Script\n",
        "\n",
        "import math\n",
        "import os\n",
        "import random\n",
        "import re\n",
        "import sys\n",
        "\n",
        "first_multiple_input = input().rstrip().split()\n",
        "n = int(first_multiple_input[0])\n",
        "m = int(first_multiple_input[1])\n",
        "matrix = []\n",
        "\n",
        "for _ in range(n):\n",
        "  matrix_item = input()\n",
        "  matrix.append(matrix_item)\n",
        "\n",
        "string = \"\"\n",
        "for i in range(m):\n",
        "  for j in range(n):\n",
        "    string += matrix[j][i]\n",
        "\n",
        "pattern = re.compile(r'(\\w)(\\W+)(\\w)')\n",
        "subs = pattern.sub(r\"\\1 \\3\", string)\n",
        "print(subs)\n"
      ],
      "execution_count": 27,
      "outputs": [
        {
          "output_type": "stream",
          "text": [
            "3 3\n",
            "Tsi\n",
            "s M\n",
            "h x\n",
            "Tshs iMx\n"
          ],
          "name": "stdout"
        }
      ]
    }
  ]
}