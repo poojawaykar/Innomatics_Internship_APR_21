{
  "nbformat": 4,
  "nbformat_minor": 0,
  "metadata": {
    "colab": {
      "name": "Task - 4 (Python Programming).ipynb",
      "provenance": [],
      "collapsed_sections": []
    },
    "kernelspec": {
      "name": "python3",
      "display_name": "Python 3"
    },
    "language_info": {
      "name": "python"
    }
  },
  "cells": [
    {
      "cell_type": "markdown",
      "metadata": {
        "id": "JNpTYOV9Fgl7"
      },
      "source": [
        "# Task - 4 (Python Programming)"
      ]
    },
    {
      "cell_type": "code",
      "metadata": {
        "colab": {
          "base_uri": "https://localhost:8080/"
        },
        "id": "ceNuABhqyaug",
        "outputId": "00786c3a-8a31-4413-e2bf-8f8ba903cac3"
      },
      "source": [
        "# Question 01\n",
        "# Statement :- Swap Case\n",
        "\n",
        "def swap_case(s):\n",
        "  s1 = s.swapcase()\n",
        "  return s1\n",
        "\n",
        "if __name__ == '__main__':\n",
        "  s = input()\n",
        "  result = swap_case(s)\n",
        "  print(result)"
      ],
      "execution_count": null,
      "outputs": [
        {
          "output_type": "stream",
          "text": [
            "Welcome\n",
            "wELCOME\n"
          ],
          "name": "stdout"
        }
      ]
    },
    {
      "cell_type": "code",
      "metadata": {
        "colab": {
          "base_uri": "https://localhost:8080/"
        },
        "id": "ACB4cPQOEout",
        "outputId": "b41c218a-8314-4950-e5c2-8064c9af40dd"
      },
      "source": [
        "# Question 02\n",
        "# Statement :- String Split and Join\n",
        "\n",
        "def split_and_join(line):\n",
        "  return line.replace(\" \",\"-\")\n",
        "\n",
        "if __name__ == '__main__':\n",
        "  line = input()\n",
        "  result = split_and_join(line)\n",
        "  print(result)"
      ],
      "execution_count": null,
      "outputs": [
        {
          "output_type": "stream",
          "text": [
            "This is a String\n",
            "This-is-a-String\n"
          ],
          "name": "stdout"
        }
      ]
    },
    {
      "cell_type": "code",
      "metadata": {
        "colab": {
          "base_uri": "https://localhost:8080/"
        },
        "id": "u561BR-dGA8B",
        "outputId": "78ab86a8-bef3-4e49-a5db-4967a454177e"
      },
      "source": [
        "# Question 03\n",
        "# Statement :- What's Your Name ?\n",
        "\n",
        "def print_full_name(first,last):\n",
        "  print(\"Hello {} {}! You just delved into python.\".format(first, last))\n",
        "\n",
        "if __name__ == '__main__':\n",
        "  first = input()\n",
        "  last = input()\n",
        "  print_full_name(first, last)"
      ],
      "execution_count": null,
      "outputs": [
        {
          "output_type": "stream",
          "text": [
            "Pooja\n",
            "Waykar\n",
            "Hello Pooja Waykar! You just delved into python.\n"
          ],
          "name": "stdout"
        }
      ]
    },
    {
      "cell_type": "code",
      "metadata": {
        "id": "LXDHAc-yGA_D",
        "colab": {
          "base_uri": "https://localhost:8080/"
        },
        "outputId": "32dbb54a-0738-443b-afac-761aeae57432"
      },
      "source": [
        "# Question 04\n",
        "# Statement :- Mutations\n",
        "\n",
        "def mutate_string(string, position, character):\n",
        "  return (string[:position]+character+string[position+1:])\n",
        "\n",
        "if __name__ == '__main__':\n",
        "  s = input()\n",
        "  i, c = input().split()\n",
        "  s_new = mutate_string(s, int(i), c)\n",
        "  print(s_new)"
      ],
      "execution_count": null,
      "outputs": [
        {
          "output_type": "stream",
          "text": [
            "sbahknmdknfmfkndnk\n",
            "2 k\n",
            "sbkhknmdknfmfkndnk\n"
          ],
          "name": "stdout"
        }
      ]
    },
    {
      "cell_type": "code",
      "metadata": {
        "colab": {
          "base_uri": "https://localhost:8080/"
        },
        "id": "0nl-cld7ucf5",
        "outputId": "5b4ba26e-ccf1-4558-e1a9-f6d6d55e8bf4"
      },
      "source": [
        " # Question 05\n",
        " # Statement :- Find a string\n",
        "\n",
        "def count_substring(string, sub_string):\n",
        "  count = 0\n",
        "  start = 0\n",
        "  while start < len(string):\n",
        "    pos = string.find(sub_string, start)\n",
        "    if pos != -1:\n",
        "      start = pos + 1\n",
        "      count += 1\n",
        "    else:\n",
        "      break\n",
        "  return count\n",
        "\n",
        "if __name__ == '__main__':\n",
        "  string = input().strip()\n",
        "  sub_string = input().strip()\n",
        "  count = count_substring(string, sub_string)\n",
        "  print(count)"
      ],
      "execution_count": null,
      "outputs": [
        {
          "output_type": "stream",
          "text": [
            "ABCDCDC\n",
            "CDC\n",
            "2\n"
          ],
          "name": "stdout"
        }
      ]
    },
    {
      "cell_type": "code",
      "metadata": {
        "colab": {
          "base_uri": "https://localhost:8080/"
        },
        "id": "B1q-eFZ6uciH",
        "outputId": "a4c68743-e3bd-4f99-ceb5-c11276ccecec"
      },
      "source": [
        "# Question 06\n",
        "# Statement :- String Validators\n",
        "\n",
        "if __name__ == '__main__':\n",
        "  s = input()\n",
        "  print(any([c.isalnum() for c in s]))\n",
        "  print(any([c.isalpha() for c in s]))\n",
        "  print(any([c.isdigit() for c in s]))\n",
        "  print(any([c.islower() for c in s]))\n",
        "  print(any([c.isupper() for c in s]))"
      ],
      "execution_count": null,
      "outputs": [
        {
          "output_type": "stream",
          "text": [
            "qA2\n",
            "True\n",
            "True\n",
            "True\n",
            "True\n",
            "True\n"
          ],
          "name": "stdout"
        }
      ]
    },
    {
      "cell_type": "code",
      "metadata": {
        "colab": {
          "base_uri": "https://localhost:8080/"
        },
        "id": "0D2o2ZyFucl3",
        "outputId": "512e8cd2-4537-432b-f22c-2404717ef3b2"
      },
      "source": [
        "# Question 07\n",
        "# Statement :- Text Alignment\n",
        "\n",
        "thickness = int(input())  # This must be an odd number\n",
        "c = 'H'\n",
        "\n",
        "# Top Cone\n",
        "for i in range(thickness):\n",
        "  print((c*i).rjust(thickness-1)+c+(c*i).ljust(thickness-1))\n",
        "\n",
        "# Top Pillars\n",
        "for i in range(thickness+1):\n",
        "  print((c*thickness).center(thickness*2)+(c*thickness).center(thickness*6))\n",
        "\n",
        "# Middle Belt\n",
        "for i in range((thickness+1)//2):\n",
        "  print((c*thickness*5).center(thickness*6))\n",
        "\n",
        "# Bottom Pillars\n",
        "for i in range(thickness+1):\n",
        "  print((c*thickness).center(thickness*2)+(c*thickness).center(thickness*6))\n",
        "\n",
        "# Bottom Cone\n",
        "for i in range(thickness):\n",
        "  print(((c*(thickness-i-1)).rjust(thickness)+c+(c*(thickness-i-1)).ljust(thickness)).rjust(thickness*6))\n"
      ],
      "execution_count": null,
      "outputs": [
        {
          "output_type": "stream",
          "text": [
            "5\n",
            "    H    \n",
            "   HHH   \n",
            "  HHHHH  \n",
            " HHHHHHH \n",
            "HHHHHHHHH\n",
            "  HHHHH               HHHHH             \n",
            "  HHHHH               HHHHH             \n",
            "  HHHHH               HHHHH             \n",
            "  HHHHH               HHHHH             \n",
            "  HHHHH               HHHHH             \n",
            "  HHHHH               HHHHH             \n",
            "  HHHHHHHHHHHHHHHHHHHHHHHHH   \n",
            "  HHHHHHHHHHHHHHHHHHHHHHHHH   \n",
            "  HHHHHHHHHHHHHHHHHHHHHHHHH   \n",
            "  HHHHH               HHHHH             \n",
            "  HHHHH               HHHHH             \n",
            "  HHHHH               HHHHH             \n",
            "  HHHHH               HHHHH             \n",
            "  HHHHH               HHHHH             \n",
            "  HHHHH               HHHHH             \n",
            "                    HHHHHHHHH \n",
            "                     HHHHHHH  \n",
            "                      HHHHH   \n",
            "                       HHH    \n",
            "                        H     \n"
          ],
          "name": "stdout"
        }
      ]
    },
    {
      "cell_type": "code",
      "metadata": {
        "colab": {
          "base_uri": "https://localhost:8080/"
        },
        "id": "e6YHyUuHwBMB",
        "outputId": "710e2d8a-2242-4f3a-c260-4e63dff6c2f7"
      },
      "source": [
        "# Question 08\n",
        "# Statement :- Text Wrap\n",
        "\n",
        "def wrap(string, max_width):\n",
        "  out = []\n",
        "  for i in range(0, len(string), max_width):\n",
        "    out.append(string[i:i+max_width])\n",
        "  return (\"\\n\".join(out))\n",
        "\n",
        "if __name__ == '__main__':\n",
        "  string, max_width = input(), int(input())\n",
        "  result = wrap(string, max_width)\n",
        "  print(result)\n"
      ],
      "execution_count": null,
      "outputs": [
        {
          "output_type": "stream",
          "text": [
            "qweryuodjfklhtneme\n",
            "3\n",
            "qwe\n",
            "ryu\n",
            "odj\n",
            "fkl\n",
            "htn\n",
            "eme\n"
          ],
          "name": "stdout"
        }
      ]
    },
    {
      "cell_type": "code",
      "metadata": {
        "colab": {
          "base_uri": "https://localhost:8080/"
        },
        "id": "Oz7MQZux_wqz",
        "outputId": "58fe9650-78d9-4808-9cf9-60646025d6e8"
      },
      "source": [
        "# Question 09\n",
        "# Statement :- Designer Door Mat\n",
        "\n",
        "p, q = map(int,input().split())\n",
        "\n",
        "if p%2 != 0 and q==p*3:\n",
        "  for i in range(1, p, 2):\n",
        "    print((i*\".|.\").center(q, \"-\"))\n",
        "\n",
        "  print(\"WELCOME\".center(q, \"-\"))\n",
        "\n",
        "  for j in range(p-2, -1, -2):\n",
        "    print((j*\".|.\").center(q, \"-\"))\n",
        "\n",
        "else:\n",
        "  print(\"Please enter value of p as odd natural number and q as 3 times of p\")"
      ],
      "execution_count": null,
      "outputs": [
        {
          "output_type": "stream",
          "text": [
            "3 9\n",
            "---.|.---\n",
            "-WELCOME-\n",
            "---.|.---\n"
          ],
          "name": "stdout"
        }
      ]
    },
    {
      "cell_type": "code",
      "metadata": {
        "colab": {
          "base_uri": "https://localhost:8080/"
        },
        "id": "FKuqznFGeuQi",
        "outputId": "423192cf-f77b-42e5-ce80-5388bcc6ae3d"
      },
      "source": [
        "# Question 10\n",
        "# Statement :- String Formatting\n",
        "\n",
        "def print_formatted(number):\n",
        "  width = len(bin(number)[2:])\n",
        "\n",
        "  for i in range(1, n+1):\n",
        "    print(str(i).rjust(width),str(oct(i)[2:]).rjust(width), str(hex(i)[2:]).upper().rjust(width), str(bin(i)[2:]).rjust(width),sep=' ')\n",
        "\n",
        "if __name__ == '__main__':\n",
        "  n = int(input())\n",
        "  print_formatted(n)"
      ],
      "execution_count": null,
      "outputs": [
        {
          "output_type": "stream",
          "text": [
            "17\n",
            "    1     1     1     1\n",
            "    2     2     2    10\n",
            "    3     3     3    11\n",
            "    4     4     4   100\n",
            "    5     5     5   101\n",
            "    6     6     6   110\n",
            "    7     7     7   111\n",
            "    8    10     8  1000\n",
            "    9    11     9  1001\n",
            "   10    12     A  1010\n",
            "   11    13     B  1011\n",
            "   12    14     C  1100\n",
            "   13    15     D  1101\n",
            "   14    16     E  1110\n",
            "   15    17     F  1111\n",
            "   16    20    10 10000\n",
            "   17    21    11 10001\n"
          ],
          "name": "stdout"
        }
      ]
    },
    {
      "cell_type": "code",
      "metadata": {
        "colab": {
          "base_uri": "https://localhost:8080/"
        },
        "id": "TBehDrJ9thRV",
        "outputId": "0027c77c-8fdb-4b56-c09d-c7c34b559102"
      },
      "source": [
        "# Question 11\n",
        "# Statement :- Alphabet Rangoli\n",
        "\n",
        "def print_rangoli(size):\n",
        "  wid = size*4-3\n",
        "  str1 = ''\n",
        "\n",
        "  for i in range(1, size+1):\n",
        "    for j in range(0, i):\n",
        "      str1 += chr(96+size-j)\n",
        "      if len(str1) < wid:\n",
        "        str1 += '-'\n",
        "    for k in range(i-1, 0, -1):\n",
        "      str1 += chr(97+size-k)\n",
        "      if len(str1) < wid:\n",
        "        str1 += '-'\n",
        "    print(str1.center(wid, '-'))\n",
        "    str1 = ''\n",
        "\n",
        "  for i in range(size-1, 0, -1):\n",
        "    str1 = ''\n",
        "    for j in range(0, i):\n",
        "      str1 += chr(96+size-j)\n",
        "      if len(str1) < wid:\n",
        "        str1 += '-'\n",
        "    for k in range(i-1, 0, -1):\n",
        "      str1 += chr(97+size-k)\n",
        "      if len(str1) < wid:\n",
        "        str1 += '-'\n",
        "    print(str1.center(wid, '-'))\n",
        "\n",
        "if __name__ == '__main__':\n",
        "  n = int(input())\n",
        "  print_rangoli(n)"
      ],
      "execution_count": null,
      "outputs": [
        {
          "output_type": "stream",
          "text": [
            "4\n",
            "------d------\n",
            "----d-c-d----\n",
            "--d-c-b-c-d--\n",
            "d-c-b-a-b-c-d\n",
            "--d-c-b-c-d--\n",
            "----d-c-d----\n",
            "------d------\n"
          ],
          "name": "stdout"
        }
      ]
    },
    {
      "cell_type": "code",
      "metadata": {
        "colab": {
          "base_uri": "https://localhost:8080/"
        },
        "id": "ZQ6Uy5twwBPr",
        "outputId": "3e1bb70b-b93d-4662-8978-d7cc8a1cbacf"
      },
      "source": [
        "# Question 12\n",
        "# Statement :- Capitalize!\n",
        "\n",
        "def solve(s):\n",
        "  for i in s.split():\n",
        "    s = s.replace(i, i.capitalize())\n",
        "  return s\n",
        "\n",
        "if __name__ == '__main__':\n",
        "  s = input()\n",
        "  print(solve(s))\n"
      ],
      "execution_count": null,
      "outputs": [
        {
          "output_type": "stream",
          "text": [
            "pooja waykar\n",
            "Pooja Waykar\n"
          ],
          "name": "stdout"
        }
      ]
    },
    {
      "cell_type": "code",
      "metadata": {
        "colab": {
          "base_uri": "https://localhost:8080/"
        },
        "id": "f3hOkqHftg-E",
        "outputId": "04347d1f-66f9-4586-dbea-ee906b8f02d3"
      },
      "source": [
        "# Question 13\n",
        "# Statement :- Minion Game\n",
        "\n",
        "def minion_game(str1):\n",
        "  vowel = \"AEIOU\"\n",
        "  stuart, kevin = 0, 0\n",
        "  for i in range(len(str1)):\n",
        "    if str1[i] in vowel:\n",
        "      kevin += (len(str1)-i)\n",
        "    else:\n",
        "      stuart += (len(str1)-i)\n",
        "\n",
        "  if stuart>kevin:\n",
        "    print(\"Stuart\",stuart)\n",
        "  elif stuart>kevin:\n",
        "    print(\"Kevin\",kevin)\n",
        "  else:\n",
        "    print(\"Draw\")\n",
        "\n",
        "if __name__ == '__main__':\n",
        "  string = input()\n",
        "  minion_game(string)\n"
      ],
      "execution_count": null,
      "outputs": [
        {
          "output_type": "stream",
          "text": [
            "BANANA\n",
            "Stuart 12\n"
          ],
          "name": "stdout"
        }
      ]
    },
    {
      "cell_type": "code",
      "metadata": {
        "colab": {
          "base_uri": "https://localhost:8080/"
        },
        "id": "ZbKXFbVLtg8b",
        "outputId": "c620d191-74c2-4f45-e346-f5897d7147c1"
      },
      "source": [
        "# Question 14\n",
        "# Statement :- Merge the Tools\n",
        "\n",
        "from collections import OrderedDict\n",
        "\n",
        "def merge_the_tools(string, k):\n",
        "  lst = []\n",
        "  for i in range(0, len(string), k):\n",
        "    lst.append(string[i:i+k])\n",
        "\n",
        "  for i in lst:\n",
        "    print(''.join(OrderedDict.fromkeys(i)))   # Removing space between characters and print it as a word\n",
        "\n",
        "if __name__ == '__main__':\n",
        "  string, k = input(), int(input())\n",
        "  merge_the_tools(string, k)"
      ],
      "execution_count": null,
      "outputs": [
        {
          "output_type": "stream",
          "text": [
            "AABCAAADA\n",
            "3\n",
            "AB\n",
            "CA\n",
            "AD\n"
          ],
          "name": "stdout"
        }
      ]
    }
  ]
}