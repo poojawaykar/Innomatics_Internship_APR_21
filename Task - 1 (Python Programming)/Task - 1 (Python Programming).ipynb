{
  "nbformat": 4,
  "nbformat_minor": 0,
  "metadata": {
    "colab": {
      "name": "Untitled17.ipynb",
      "provenance": [],
      "collapsed_sections": []
    },
    "kernelspec": {
      "name": "python3",
      "display_name": "Python 3"
    },
    "language_info": {
      "name": "python"
    }
  },
  "cells": [
    {
      "cell_type": "code",
      "metadata": {
        "colab": {
          "base_uri": "https://localhost:8080/"
        },
        "id": "vfjxntd1I2qA",
        "outputId": "ef3e7bbf-e965-4fd3-95e6-8fc03d423461"
      },
      "source": [
        "# Question 01\n",
        "# Statement :- Print Hello, World! to stdout.\n",
        "\n",
        "print(\"Hello, World!\")"
      ],
      "execution_count": null,
      "outputs": [
        {
          "output_type": "stream",
          "text": [
            "Hello, World!\n"
          ],
          "name": "stdout"
        }
      ]
    },
    {
      "cell_type": "code",
      "metadata": {
        "colab": {
          "base_uri": "https://localhost:8080/"
        },
        "id": "eiwK7o3oJTW0",
        "outputId": "996f3d9b-eff3-4bb9-caae-e7cd069e365c"
      },
      "source": [
        "# Question 02\n",
        "# Statement :-\n",
        "# Given an integer, , perform the following conditional actions:\n",
        "\n",
        "# If  n is odd, print Weird\n",
        "# If  n is even and in the inclusive range of 2 to 5, print Not Weird\n",
        "# If  n is even and in the inclusive range of 6 to 20, print Weird\n",
        "# If  n is even and greater than 20, print Not Weird\n",
        "\n",
        "n = int(input().strip())\n",
        "if (n%2)==0:\n",
        "  if (2 <= n <= 5):\n",
        "    print(\"Not Weird\")\n",
        "  elif (6 <= n <= 20):\n",
        "    print(\"Weird\")\n",
        "  else:\n",
        "    print(\"Not Weird\")\n",
        "else:\n",
        "    print(\"Weird\")"
      ],
      "execution_count": null,
      "outputs": [
        {
          "output_type": "stream",
          "text": [
            "6\n",
            "Weird\n"
          ],
          "name": "stdout"
        }
      ]
    },
    {
      "cell_type": "code",
      "metadata": {
        "colab": {
          "base_uri": "https://localhost:8080/"
        },
        "id": "Ksv4NecjO72H",
        "outputId": "7948e94d-8b83-4056-c0d9-e661780d9cdf"
      },
      "source": [
        "# Question 03\n",
        "# Statement :-\n",
        "# The provided code stub reads two integers from STDIN,  and . Add code to print three lines where:\n",
        "\n",
        "# The first line contains the sum of the two numbers.\n",
        "# The second line contains the difference of the two numbers (first - second).\n",
        "# The third line contains the product of the two numbers.\n",
        "\n",
        "a = int(input())\n",
        "b = int(input())\n",
        "print(a+b);print(a-b);print(a*b)"
      ],
      "execution_count": null,
      "outputs": [
        {
          "output_type": "stream",
          "text": [
            "4\n",
            "5\n",
            "9\n",
            "-1\n",
            "20\n"
          ],
          "name": "stdout"
        }
      ]
    },
    {
      "cell_type": "code",
      "metadata": {
        "colab": {
          "base_uri": "https://localhost:8080/"
        },
        "id": "cX-9CNPJO75R",
        "outputId": "b7d6be74-a646-4ad4-951b-065405bea42e"
      },
      "source": [
        "# Question 04\n",
        "# Statement :- \n",
        "\n",
        "# The provided code stub reads two integers, a and b, from STDIN.\n",
        "# Add logic to print two lines. The first line should contain the result of integer division, a // b. The second line should contain the result of float division, a / b.\n",
        "# No rounding or formatting is necessary.\n",
        "\n",
        "a = int(input())\n",
        "b = int(input())\n",
        "if b != 0:\n",
        "  print(a//b);print(a/b)\n",
        "else:\n",
        "  print(\"Divide By Zero Error\")"
      ],
      "execution_count": null,
      "outputs": [
        {
          "output_type": "stream",
          "text": [
            "6\n",
            "4\n",
            "1\n",
            "1.5\n"
          ],
          "name": "stdout"
        }
      ]
    },
    {
      "cell_type": "code",
      "metadata": {
        "colab": {
          "base_uri": "https://localhost:8080/"
        },
        "id": "l8fekU0SO791",
        "outputId": "ac385def-5fef-45b2-d0c6-264b78637856"
      },
      "source": [
        "# Queation 05\n",
        "# Statement :- \n",
        "# The provided code stub reads and integer n, from STDIN. For all non-negative integers i<n, print i power 2.\n",
        "\n",
        "n = int(input())\n",
        "if (1 <= n <= 20):\n",
        "  for i in range(n):\n",
        "    print(i*i)\n",
        "else:\n",
        "    print(\"Please enter value of n less than 20\")"
      ],
      "execution_count": null,
      "outputs": [
        {
          "output_type": "stream",
          "text": [
            "15\n",
            "0\n",
            "1\n",
            "4\n",
            "9\n",
            "16\n",
            "25\n",
            "36\n",
            "49\n",
            "64\n",
            "81\n",
            "100\n",
            "121\n",
            "144\n",
            "169\n",
            "196\n"
          ],
          "name": "stdout"
        }
      ]
    },
    {
      "cell_type": "code",
      "metadata": {
        "colab": {
          "base_uri": "https://localhost:8080/"
        },
        "id": "fdMXiZpQO8d0",
        "outputId": "699734a4-56cd-4c72-9ef2-beeb13db472b"
      },
      "source": [
        "# Question 06\n",
        "# Statement :- \n",
        "\n",
        "# Given a year, determine whether it is a leap year. If it is a leap year, return the Boolean True, otherwise return False.\n",
        "# Note that the code stub provided reads from STDIN and passes arguments to the is_leap function. \n",
        "# It is only necessary to complete the is_leap function.\n",
        "\n",
        "year = int(input())\n",
        "print(is_leap(year))\n",
        "\n",
        "def is_leap(year):\n",
        "    leap = False\n",
        "    \n",
        "    # Write your logic here\n",
        "    if (year % 100)==0:\n",
        "        if (year % 400)==0:\n",
        "            leap = True\n",
        "        else:\n",
        "            leap = False\n",
        "    elif (year % 4)==0:\n",
        "        leap = True\n",
        "    else:\n",
        "        leap = False\n",
        "\n",
        "    return leap\n"
      ],
      "execution_count": null,
      "outputs": [
        {
          "output_type": "stream",
          "text": [
            "2016\n",
            "True\n"
          ],
          "name": "stdout"
        }
      ]
    },
    {
      "cell_type": "code",
      "metadata": {
        "colab": {
          "base_uri": "https://localhost:8080/"
        },
        "id": "aP0LZJFlO8lb",
        "outputId": "4f9e9f24-9708-4255-db96-d339d970a605"
      },
      "source": [
        "# Question 07\n",
        "# Statement :- \n",
        "\n",
        "# The included code stub will read an integer n, from STDIN.\n",
        "# Without using any string methods, try to print the following:\n",
        "# 123...n\n",
        "# Note that \"...\" represents the consecutive values in between.\n",
        "\n",
        "n = int(input())\n",
        "for i in range(1,n+1):\n",
        "  print(i,end = \"\")"
      ],
      "execution_count": null,
      "outputs": [
        {
          "output_type": "stream",
          "text": [
            "8\n",
            "12345678"
          ],
          "name": "stdout"
        }
      ]
    }
  ]
}