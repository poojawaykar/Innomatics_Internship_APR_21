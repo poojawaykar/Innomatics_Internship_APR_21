{
  "nbformat": 4,
  "nbformat_minor": 0,
  "metadata": {
    "colab": {
      "name": "Task - 6 (Numpy).ipynb",
      "provenance": [],
      "collapsed_sections": []
    },
    "kernelspec": {
      "name": "python3",
      "display_name": "Python 3"
    },
    "language_info": {
      "name": "python"
    }
  },
  "cells": [
    {
      "cell_type": "markdown",
      "metadata": {
        "id": "_t6bz3jRJFJk"
      },
      "source": [
        "# Task - 6 (Numpy)"
      ]
    },
    {
      "cell_type": "code",
      "metadata": {
        "colab": {
          "base_uri": "https://localhost:8080/"
        },
        "id": "57-XZm9-I_XH",
        "outputId": "4f7c2a62-feb8-45b7-9304-019241f10239"
      },
      "source": [
        "# Question :- 01\n",
        "# Statement :- Arrays\n",
        "\n",
        "import numpy\n",
        "def arrays(arr):\n",
        "  return numpy.array(arr[::-1], float)\n",
        "\n",
        "arr = input().strip().split(' ')\n",
        "result = arrays(arr)\n",
        "print(result)"
      ],
      "execution_count": null,
      "outputs": [
        {
          "output_type": "stream",
          "text": [
            "1 2 3 4 -8 -10\n",
            "[-10.  -8.   4.   3.   2.   1.]\n"
          ],
          "name": "stdout"
        }
      ]
    },
    {
      "cell_type": "code",
      "metadata": {
        "colab": {
          "base_uri": "https://localhost:8080/"
        },
        "id": "VFd_q7_kJhZC",
        "outputId": "556f01ba-1a60-41da-d643-f0ca85ea004a"
      },
      "source": [
        "# Question :- 02\n",
        "# Statement :- Shape and Reshape\n",
        "\n",
        "import numpy\n",
        "arr = list(map(int, input().split()))\n",
        "print(numpy.reshape(arr, (3,3)))"
      ],
      "execution_count": null,
      "outputs": [
        {
          "output_type": "stream",
          "text": [
            "1 2 3 4 5 6 7 8 9\n",
            "[[1 2 3]\n",
            " [4 5 6]\n",
            " [7 8 9]]\n"
          ],
          "name": "stdout"
        }
      ]
    },
    {
      "cell_type": "code",
      "metadata": {
        "colab": {
          "base_uri": "https://localhost:8080/"
        },
        "id": "3G_f_ak7Jhaa",
        "outputId": "8d15432c-a2c6-4d91-a5d9-4541c9ad75f6"
      },
      "source": [
        "# Question :- 03\n",
        "# Statement :- Transpose and Flatten\n",
        "\n",
        "import numpy as np\n",
        "lst = []\n",
        "n, m = list(map(int, input().split()))\n",
        "for i in range(n):\n",
        "  lst.append([input().strip().split()])\n",
        "\n",
        "arr = np.reshape(np.array(lst, int), (n,m))\n",
        "print(np.transpose(arr))\n",
        "print(arr.flatten())"
      ],
      "execution_count": null,
      "outputs": [
        {
          "output_type": "stream",
          "text": [
            "2 2\n",
            "1 2\n",
            "3 4\n",
            "[[1 3]\n",
            " [2 4]]\n",
            "[1 2 3 4]\n"
          ],
          "name": "stdout"
        }
      ]
    },
    {
      "cell_type": "code",
      "metadata": {
        "colab": {
          "base_uri": "https://localhost:8080/"
        },
        "id": "rwzSMPIvJhdX",
        "outputId": "3ba5a436-7ff0-4c98-8de7-4072b7d622d5"
      },
      "source": [
        "# Question :- 04\n",
        "# Statement :- Concatenate\n",
        "\n",
        "import numpy\n",
        "n = list(map(int, input().split()))\n",
        "A = numpy.array([input().split() for i in range(n[0])], int)\n",
        "B = numpy.array([input().split() for i in range(n[1])], int)\n",
        "print(numpy.concatenate((A, B), axis=0))"
      ],
      "execution_count": null,
      "outputs": [
        {
          "output_type": "stream",
          "text": [
            "4 3 2\n",
            "1 2\n",
            "1 2\n",
            "1 2\n",
            "1 2\n",
            "3 4\n",
            "3 4\n",
            "3 4\n",
            "[[1 2]\n",
            " [1 2]\n",
            " [1 2]\n",
            " [1 2]\n",
            " [3 4]\n",
            " [3 4]\n",
            " [3 4]]\n"
          ],
          "name": "stdout"
        }
      ]
    },
    {
      "cell_type": "code",
      "metadata": {
        "colab": {
          "base_uri": "https://localhost:8080/"
        },
        "id": "vezuVPIjJhhK",
        "outputId": "aa507257-2a5d-482e-daae-a82ad693e76c"
      },
      "source": [
        "# Question :- 05\n",
        "# Statement :- Zeros and Ones\n",
        "\n",
        "import numpy\n",
        "n = list(map(int, input().split()))\n",
        "print(numpy.zeros((n), dtype=numpy.int))\n",
        "print(numpy.ones((n), dtype=numpy.int))"
      ],
      "execution_count": null,
      "outputs": [
        {
          "output_type": "stream",
          "text": [
            "3 3 3\n",
            "[[[0 0 0]\n",
            "  [0 0 0]\n",
            "  [0 0 0]]\n",
            "\n",
            " [[0 0 0]\n",
            "  [0 0 0]\n",
            "  [0 0 0]]\n",
            "\n",
            " [[0 0 0]\n",
            "  [0 0 0]\n",
            "  [0 0 0]]]\n",
            "[[[1 1 1]\n",
            "  [1 1 1]\n",
            "  [1 1 1]]\n",
            "\n",
            " [[1 1 1]\n",
            "  [1 1 1]\n",
            "  [1 1 1]]\n",
            "\n",
            " [[1 1 1]\n",
            "  [1 1 1]\n",
            "  [1 1 1]]]\n"
          ],
          "name": "stdout"
        }
      ]
    },
    {
      "cell_type": "code",
      "metadata": {
        "colab": {
          "base_uri": "https://localhost:8080/"
        },
        "id": "XUiP02dTJ77j",
        "outputId": "47cb6621-abc2-4cf2-c3a2-682152d90f29"
      },
      "source": [
        "# Question :- 06\n",
        "# Statement :- Eye and Identity\n",
        "\n",
        "import numpy\n",
        "numpy.set_printoptions\n",
        "N, M = map(int, input().split())\n",
        "print(numpy.eye(N, M, k=0))"
      ],
      "execution_count": null,
      "outputs": [
        {
          "output_type": "stream",
          "text": [
            "3 3\n",
            "[[1. 0. 0.]\n",
            " [0. 1. 0.]\n",
            " [0. 0. 1.]]\n"
          ],
          "name": "stdout"
        }
      ]
    },
    {
      "cell_type": "code",
      "metadata": {
        "colab": {
          "base_uri": "https://localhost:8080/"
        },
        "id": "vZmeG1m1J79V",
        "outputId": "9e1c275d-69f5-4542-c428-d39ed443fa91"
      },
      "source": [
        "# Question :- 07\n",
        "# Statement :- Array Mathematics\n",
        "\n",
        "import numpy\n",
        "N, M = map(int, input().split())\n",
        "A = numpy.array([input().split() for i in range(N)], int)\n",
        "B = numpy.array([input().split()], int)\n",
        "print(numpy.add(A, B))\n",
        "print(numpy.subtract(A, B))\n",
        "print(numpy.multiply(A, B))\n",
        "print(A//B)\n",
        "print(numpy.mod(A, B))\n",
        "print(numpy.power(A, B))"
      ],
      "execution_count": null,
      "outputs": [
        {
          "output_type": "stream",
          "text": [
            "1 4\n",
            "1 2 3 4\n",
            "5 6 7 8\n",
            "[[ 6  8 10 12]]\n",
            "[[-4 -4 -4 -4]]\n",
            "[[ 5 12 21 32]]\n",
            "[[0 0 0 0]]\n",
            "[[1 2 3 4]]\n",
            "[[    1    64  2187 65536]]\n"
          ],
          "name": "stdout"
        }
      ]
    },
    {
      "cell_type": "code",
      "metadata": {
        "colab": {
          "base_uri": "https://localhost:8080/"
        },
        "id": "BygriIrRJ7_R",
        "outputId": "6267e0e5-e646-4340-87ae-7e08a4322550"
      },
      "source": [
        "# Question :- 08\n",
        "# Statement :- Floor, Ceil and Rint\n",
        "\n",
        "import numpy\n",
        "numpy.set_printoptions\n",
        "arr = numpy.array(input().strip().split(), float)\n",
        "print(numpy.floor(arr))\n",
        "print(numpy.ceil(arr))\n",
        "print(numpy.rint(arr))"
      ],
      "execution_count": null,
      "outputs": [
        {
          "output_type": "stream",
          "text": [
            "1.1 2.2 3.3 4.4 5.5 6.6 7.7 8.8 9.9\n",
            "[1. 2. 3. 4. 5. 6. 7. 8. 9.]\n",
            "[ 2.  3.  4.  5.  6.  7.  8.  9. 10.]\n",
            "[ 1.  2.  3.  4.  6.  7.  8.  9. 10.]\n"
          ],
          "name": "stdout"
        }
      ]
    },
    {
      "cell_type": "code",
      "metadata": {
        "colab": {
          "base_uri": "https://localhost:8080/"
        },
        "id": "8J4oHlkLJ8Cr",
        "outputId": "167fff5c-7ea3-43f7-8421-7f09a62875e9"
      },
      "source": [
        "# Question :- 09\n",
        "# Statement :- Sum and Prod\n",
        "\n",
        "import numpy\n",
        "N, M = map(int,input().split())\n",
        "arr = numpy.array([input().split() for i in range(N)], int)\n",
        "print(numpy.prod(numpy.sum(arr, axis=0)))"
      ],
      "execution_count": null,
      "outputs": [
        {
          "output_type": "stream",
          "text": [
            "2 2\n",
            "1 2\n",
            "3 4\n",
            "24\n"
          ],
          "name": "stdout"
        }
      ]
    },
    {
      "cell_type": "code",
      "metadata": {
        "id": "ZfLLqr8HKUFN",
        "colab": {
          "base_uri": "https://localhost:8080/"
        },
        "outputId": "34a4b2ae-2f7e-4af9-db63-a4d3fcc37f9a"
      },
      "source": [
        "# Question :- 10\n",
        "# Statement :- Min and Max\n",
        "\n",
        "import numpy\n",
        "N, M = map(int, input().split())\n",
        "arr = numpy.array([input().split() for i in range(N)], int)\n",
        "print(numpy.max(numpy.min(arr, axis=1)))"
      ],
      "execution_count": 1,
      "outputs": [
        {
          "output_type": "stream",
          "text": [
            "4 2\n",
            "2 5\n",
            "3 7\n",
            "1 3\n",
            "4 0\n",
            "3\n"
          ],
          "name": "stdout"
        }
      ]
    },
    {
      "cell_type": "code",
      "metadata": {
        "id": "QPUKydMIKUG1",
        "colab": {
          "base_uri": "https://localhost:8080/"
        },
        "outputId": "dc2f06da-33d6-4a15-8f74-59bb763d569e"
      },
      "source": [
        "# Question :- 11\n",
        "# Statement :- Mean, Var, and Std\n",
        "\n",
        "import numpy\n",
        "N, M = map(int, input().split())\n",
        "arr = numpy.array([input().split() for i in range(N)], int)\n",
        "print(numpy.mean(arr, axis=1))\n",
        "print(numpy.var(arr, axis=0))\n",
        "print(round(numpy.std(arr, axis=None), 11))"
      ],
      "execution_count": 2,
      "outputs": [
        {
          "output_type": "stream",
          "text": [
            "2 2\n",
            "1 2\n",
            "3 4\n",
            "[1.5 3.5]\n",
            "[1. 1.]\n",
            "1.11803398875\n"
          ],
          "name": "stdout"
        }
      ]
    },
    {
      "cell_type": "code",
      "metadata": {
        "id": "d-yWd39CKUJD",
        "colab": {
          "base_uri": "https://localhost:8080/"
        },
        "outputId": "7b8413c9-0504-46f0-f080-4f16788d0223"
      },
      "source": [
        "# Question :- 12\n",
        "# Statement :- Dot and Cross\n",
        "\n",
        "import numpy\n",
        "N = int(input())\n",
        "A = numpy.array([input().split() for i in range(N)], int)\n",
        "B = numpy.array([input().split() for i in range(N)], int)\n",
        "print(numpy.dot(A, B))"
      ],
      "execution_count": 5,
      "outputs": [
        {
          "output_type": "stream",
          "text": [
            "2\n",
            "1 2\n",
            "3 4\n",
            "1 2\n",
            "3 4\n",
            "[[ 7 10]\n",
            " [15 22]]\n"
          ],
          "name": "stdout"
        }
      ]
    },
    {
      "cell_type": "code",
      "metadata": {
        "id": "mfehpblYKUMk",
        "colab": {
          "base_uri": "https://localhost:8080/"
        },
        "outputId": "67896bd2-a4df-4626-96fc-18f2aaf5c4e1"
      },
      "source": [
        "# Question :- 13\n",
        "# Statement :- Inner and Outer\n",
        "\n",
        "import numpy\n",
        "A = numpy.array(input().split(), int)\n",
        "B = numpy.array(input().split(), int)\n",
        "print(numpy.inner(A, B))\n",
        "print(numpy.outer(A, B))"
      ],
      "execution_count": 6,
      "outputs": [
        {
          "output_type": "stream",
          "text": [
            "0 1\n",
            "2 3\n",
            "3\n",
            "[[0 0]\n",
            " [2 3]]\n"
          ],
          "name": "stdout"
        }
      ]
    },
    {
      "cell_type": "code",
      "metadata": {
        "id": "7CloF6pHKsnF",
        "colab": {
          "base_uri": "https://localhost:8080/"
        },
        "outputId": "bb380157-23db-4c7e-fbfc-4f4a21878864"
      },
      "source": [
        "# Question :- 14\n",
        "# Statement :- Polynomials\n",
        "\n",
        "import numpy\n",
        "print(numpy.polyval(numpy.array(input().split(), float), float(input())))"
      ],
      "execution_count": 7,
      "outputs": [
        {
          "output_type": "stream",
          "text": [
            "1.1 2 3\n",
            "0\n",
            "3.0\n"
          ],
          "name": "stdout"
        }
      ]
    },
    {
      "cell_type": "code",
      "metadata": {
        "id": "vLzfnv8YKsun",
        "colab": {
          "base_uri": "https://localhost:8080/"
        },
        "outputId": "0826003f-e7e0-4cdd-d5c9-82a2f90f831e"
      },
      "source": [
        "# Question :- 15\n",
        "# Statement :- Linear algebra\n",
        "\n",
        "import numpy\n",
        "numpy.set_printoptions\n",
        "n = int(input())\n",
        "arr = numpy.array([input().split() for i in range(N)], float)\n",
        "print(numpy.linalg.det(arr))"
      ],
      "execution_count": 8,
      "outputs": [
        {
          "output_type": "stream",
          "text": [
            "2\n",
            "1.1 1.1\n",
            "1.1 1.1\n",
            "0.0\n"
          ],
          "name": "stdout"
        }
      ]
    }
  ]
}