{
  "nbformat": 4,
  "nbformat_minor": 0,
  "metadata": {
    "colab": {
      "name": "Task - 9 (Hypothesis Testing).ipynb",
      "provenance": [],
      "collapsed_sections": []
    },
    "kernelspec": {
      "name": "python3",
      "display_name": "Python 3"
    },
    "language_info": {
      "name": "python"
    }
  },
  "cells": [
    {
      "cell_type": "markdown",
      "metadata": {
        "id": "76N9a8V7n1bf"
      },
      "source": [
        "# **Task - 9 (Hypothesis Testing)**"
      ]
    },
    {
      "cell_type": "code",
      "metadata": {
        "id": "qoAowQS8nwtm"
      },
      "source": [
        "# Importing libraries\n",
        "\n",
        "import numpy as np\n",
        "import matplotlib.pyplot as plt\n",
        "from scipy.stats import norm\n",
        "import scipy.stats"
      ],
      "execution_count": null,
      "outputs": []
    },
    {
      "cell_type": "code",
      "metadata": {
        "id": "CNMCFhyYoh_X"
      },
      "source": [
        "# t-score for sampling distributions\n",
        "\n",
        "def t_score(sample_size, sample_mean, sample_std_dev, pop_mean):\n",
        "  numerator = sample_mean - pop_mean\n",
        "  denomenator = sample_std_dev / sample_size**0.5\n",
        "  return (numerator / denomenator)\n"
      ],
      "execution_count": null,
      "outputs": []
    },
    {
      "cell_type": "markdown",
      "metadata": {
        "id": "9J-B_gFxpZ2r"
      },
      "source": [
        "**Question 01 :-**\n",
        "> **Pista House selling Hyderabadi Chicken Dum biryani claims that each parcel packet has 500 grams of biryani (also mentioned on the label of packet). You are sceptic of their claims and believe that on average each packet does not contain 500 grams of biryani. How do you prove your claim?**\n",
        "\n",
        "Step 1 :-\n",
        "\n",
        "Alternate Hypothesis (Bold Claim)\n",
        "$$ H_{1}: {=500} $$\n",
        "\n",
        "\n",
        "Null Hypothesis (Status Duo)\n",
        "$$ H_{0}: {\\neq 500} $$\n",
        "\n",
        "Step 2 :-\n",
        "*   Collect a sample of size n=10\n",
        "\n",
        "$$ [490, 220, 470, 500, 495, 496, 496, 498, 508, 480] $$ \n",
        "\n",
        "*   Collect sample mean\n",
        "\n",
        "$$ Sample\\ Mean \\ \\overline{(x)}={\\frac {490+220+470+500+495+496+496+498+508+480}{10}} = {\\frac {4653}{10}}=465.3 $$\n",
        "\n",
        "Step 3 :- Compute Test Statistics\n",
        "\n",
        "In our example population variance is unknown so we need to find sample's variance and find t-score instead of z-score.\n",
        "\n",
        "\n",
        "*   Sample's Variance :- \n",
        "\n",
        "$$ {s}={\\frac {\\sum ({x}-{\\overline{x}})}{n-1}}=82.39$$\n",
        "\n",
        "*   Compute t-score\n",
        "\n",
        "    Where,\n",
        "\n",
        "* $\\overline {x}$ = 465.3\n",
        "* $\\mu $ = 500\n",
        "* ${s}$ = 82.39\n",
        "* ${n}$ = 10\n",
        "\n",
        "\n",
        "$$ {t}={\\frac {\\overline{x} - \\mu}{\\frac {s}{\\sqrt {n}}}}={\\frac {465.3 - 500}{\\frac {82.124}{\\sqrt {10}}}}={\\frac {-34.7}{25.97}}={-1.33} $$\n",
        "\n",
        "\n",
        "Step 4 :- Decide $ \\alpha $ and significance level\n",
        "\n",
        "confidence_level = 0.95\n",
        "\n",
        "$$ 1-\\alpha = 0.95 $$ $$ \\alpha = 1 - 0.95 $$ $$ \\alpha = 0.05 $$\n",
        "\n",
        "Step 5 :\n",
        "\n",
        "5.1.  Apply decision rule\n",
        "\n",
        "5.2.   Compute p-value\n",
        "\n",
        "  Two tailed test \n",
        "\n",
        "$$ p \\ value =  2*(1.0-(cdf(test \\ statistics))) $$\n",
        "\n",
        "\n",
        "\n"
      ]
    },
    {
      "cell_type": "code",
      "metadata": {
        "id": "V7NA6KZdoiBT",
        "colab": {
          "base_uri": "https://localhost:8080/"
        },
        "outputId": "7fa4db97-f1cb-4ede-d67d-b0583ed57347"
      },
      "source": [
        "# Defining the sample and population parameters\n",
        "\n",
        "samples = [490, 220, 470, 500, 495, 496, 496, 498, 508, 480]\n",
        "sample_size = len(samples)\n",
        "sample_mean = sum(samples)/len(samples)\n",
        "sample_std_dev = np.std(samples)\n",
        "pop_mean = 500\n",
        "print(\"Sample Mean :- \",sample_mean)\n",
        "print(\"sample_std_dev :- \",sample_std_dev)"
      ],
      "execution_count": null,
      "outputs": [
        {
          "output_type": "stream",
          "text": [
            "Sample Mean :-  465.3\n",
            "sample_std_dev :-  82.3918078451978\n"
          ],
          "name": "stdout"
        }
      ]
    },
    {
      "cell_type": "code",
      "metadata": {
        "id": "OG49qnSAoiEg",
        "colab": {
          "base_uri": "https://localhost:8080/"
        },
        "outputId": "8ddd71a5-9b1c-4ddb-a3e6-8850cff4e632"
      },
      "source": [
        "# Here we have sample's variance so we calculating the t-score\n",
        "\n",
        "t = t_score(sample_size, sample_mean, sample_std_dev, pop_mean)\n",
        "\n",
        "print(t)"
      ],
      "execution_count": null,
      "outputs": [
        {
          "output_type": "stream",
          "text": [
            "-1.3318197242863192\n"
          ],
          "name": "stdout"
        }
      ]
    },
    {
      "cell_type": "code",
      "metadata": {
        "colab": {
          "base_uri": "https://localhost:8080/"
        },
        "id": "hMNJMbfROe-u",
        "outputId": "7dc71fb8-2e25-4f81-d843-fbc5b8558a8f"
      },
      "source": [
        "# Two-Tail :- Calculating the z-critical\n",
        "\n",
        "confidence_level = 0.95\n",
        "\n",
        "alpha = 1 - confidence_level\n",
        "\n",
        "t_critical = scipy.stats.t.ppf(1-(alpha/2),9)\n",
        "\n",
        "t_critical"
      ],
      "execution_count": null,
      "outputs": [
        {
          "output_type": "execute_result",
          "data": {
            "text/plain": [
              "2.2621571627409915"
            ]
          },
          "metadata": {
            "tags": []
          },
          "execution_count": 80
        }
      ]
    },
    {
      "cell_type": "code",
      "metadata": {
        "colab": {
          "base_uri": "https://localhost:8080/",
          "height": 285
        },
        "id": "wQkvHXoHOfMn",
        "outputId": "4aa0bb7b-2ef1-411c-cc79-3be5074f3da0"
      },
      "source": [
        "# Plotting the sampling distribution rejection regions\n",
        "\n",
        "# Defining the x-minimum and x-maximum\n",
        "x_min = 400\n",
        "x_max = 600\n",
        "\n",
        "# Defining the population mean and sampling distribution standard deviation\n",
        "mean = pop_mean\n",
        "std_dev = sample_std_dev / sample_size**0.5\n",
        "\n",
        "# Plotting the graph and setting the x-limits\n",
        "x = np.linspace(x_min, x_max, 100)\n",
        "y = norm.pdf(x, mean, std_dev)\n",
        "plt.xlim(x_min, x_max)\n",
        "plt.plot(x, y)\n",
        "\n",
        "# Computing the left and right critical values (Two-Tailed Test)\n",
        "t_critical_left = pop_mean + (-t_critical * std_dev)\n",
        "t_critical_right = pop_mean + (t_critical * std_dev)\n",
        "\n",
        "# Shading the left rejection region\n",
        "x1 = np.linspace(x_min, t_critical_left, 100)\n",
        "y1 = norm.pdf(x1, mean, std_dev)\n",
        "plt.fill_between(x1, y1, color='blue')\n",
        "\n",
        "# Shading the right rejection redion\n",
        "x2 = np.linspace(t_critical_right, x_max, 100)\n",
        "y2 = norm.pdf(x2, mean, std_dev)\n",
        "plt.fill_between(x2, y2, color='blue')\n",
        "\n",
        "# Plotting the sample mean and concluding the results\n",
        "plt.scatter(sample_mean, 0)\n",
        "plt.annotate(\"x_bar\", (sample_mean, 0.0007))\n",
        "\n",
        "# Results :- Here we fail to reject Null Hypothesis"
      ],
      "execution_count": null,
      "outputs": [
        {
          "output_type": "execute_result",
          "data": {
            "text/plain": [
              "Text(465.3, 0.0007, 'x_bar')"
            ]
          },
          "metadata": {
            "tags": []
          },
          "execution_count": 81
        },
        {
          "output_type": "display_data",
          "data": {
            "image/png": "[encoded data removed]",
            "text/plain": [
              "<Figure size 432x288 with 1 Axes>"
            ]
          },
          "metadata": {
            "tags": [],
            "needs_background": "light"
          }
        }
      ]
    },
    {
      "cell_type": "code",
      "metadata": {
        "colab": {
          "base_uri": "https://localhost:8080/"
        },
        "id": "48KORGM_8Jw9",
        "outputId": "b4f30669-964c-4751-f962-c1f7387f57ed"
      },
      "source": [
        "# Conclusion using z test\n",
        "\n",
        "if(np.abs(t) > t_critical):\n",
        "    print(\"Reject Null Hypothesis\")\n",
        "else:\n",
        "    print(\"Fail to reject Null Hypothesis\")"
      ],
      "execution_count": null,
      "outputs": [
        {
          "output_type": "stream",
          "text": [
            "Fail to reject Null Hypothesis\n"
          ],
          "name": "stdout"
        }
      ]
    },
    {
      "cell_type": "code",
      "metadata": {
        "colab": {
          "base_uri": "https://localhost:8080/"
        },
        "id": "A7AlcHVl8J6N",
        "outputId": "ab534168-5d08-4b87-df14-b5b115a827e7"
      },
      "source": [
        "# Conclusion using p test\n",
        "\n",
        "p_value = 2 * (1.0 - norm.cdf(np.abs(t)))\n",
        "\n",
        "print(\"p_value = \", p_value)\n",
        "\n",
        "if(p_value < alpha):\n",
        "    print(\"Reject Null Hypothesis\")\n",
        "else:\n",
        "    print(\"Fail to reject Null Hypothesis\")"
      ],
      "execution_count": null,
      "outputs": [
        {
          "output_type": "stream",
          "text": [
            "p_value =  0.18291943486353945\n",
            "Fail to reject Null Hypothesis\n"
          ],
          "name": "stdout"
        }
      ]
    },
    {
      "cell_type": "markdown",
      "metadata": {
        "id": "6kUspJfudxYp"
      },
      "source": [
        "\n",
        "\n",
        "---\n",
        "\n"
      ]
    },
    {
      "cell_type": "markdown",
      "metadata": {
        "id": "3GbhriaFdtiB"
      },
      "source": [
        "**Question 02 :-**\n",
        "> **You have developed a new Natural Language Processing Algorithms and done a user study. You claim that the average rating given by the users is greater than 4 on a scale of 1 to 5. How do you prove this to your client?**\n",
        "\n",
        "Step 1 :-\n",
        "\n",
        "Alternate Hypothesis (Bold Claim)\n",
        "$$ H_{1}: {>4} $$\n",
        "\n",
        "\n",
        "Null Hypothesis (Status Duo)\n",
        "$$ H_{0}: {<= 4} $$\n",
        "\n",
        "Step 2 :-\n",
        "*   Collect a sample of size n=10\n",
        "\n",
        "$$ [4,3,5,4,5,3,5,5,4,2,4,5,5,4,4,5,4,5,4,5] $$ \n",
        "\n",
        "*   Collect sample mean\n",
        "\n",
        "$$ Sample\\ Mean \\ \\overline{(x)}={\\frac {4+3+5+4+5+3+5+5+4+2+4+5+5+4+4+5+4+5+4+5}{20}} = {\\frac {85}{20}}=4.25 $$\n",
        "\n",
        "Step 3 :- Compute Test Statistics\n",
        "\n",
        "In our example population variance is unknown so we need to find sample's variance and find t-score instead of z-score.\n",
        "\n",
        "\n",
        "*   Sample's Variance :- \n",
        "\n",
        "$$ {s}={\\frac {\\sum ({x}-{\\overline{x}})}{n-1}}=0.8291 $$\n",
        "\n",
        "*   Compute t-score\n",
        "\n",
        "    Where,\n",
        "\n",
        "* $\\overline {x}$ = 4.25\n",
        "* $\\mu $ = 4\n",
        "* ${s}$ = 0.8291\n",
        "* ${n}$ = 20\n",
        "\n",
        "\n",
        "$$ {t}={\\frac {\\overline{x} - \\mu}{\\frac {s}{\\sqrt {n}}}}={\\frac {4.25 - 4}{\\frac {0.8291}{\\sqrt {20}}}}={\\frac {0.25}{0.1854}}={1.348} $$\n",
        "\n",
        "\n",
        "Step 4 :- Decide $ \\alpha $ and significance level\n",
        "\n",
        "confidence_level = 0.95\n",
        "\n",
        "$$ 1-\\alpha = 0.95 $$ $$ \\alpha = 1 - 0.95 $$ $$ \\alpha = 0.05 $$\n",
        "\n",
        "Step 5 :\n",
        "\n",
        "5.1.  Apply decision rule\n",
        "\n",
        "\n",
        "5.2.   Compute p-value\n",
        "\n",
        "one tailed test \n",
        "\n",
        "$$ p \\ value =  (1.0-(cdf(test \\ statistics))) $$\n",
        "\n"
      ]
    },
    {
      "cell_type": "code",
      "metadata": {
        "colab": {
          "base_uri": "https://localhost:8080/"
        },
        "id": "PwJgmodKhdge",
        "outputId": "d2d06847-9e51-43b5-e28f-4a592b68a1de"
      },
      "source": [
        "samples = [4,3,5,4,5,3,5,5,4,2,4,5,5,4,4,5,4,5,4,5]\n",
        "print(len(samples))\n",
        "sample_size = len(samples)\n",
        "sample_mean = sum(samples)/len(samples)\n",
        "sample_std_dev = np.std(samples)\n",
        "pop_mean = 4\n",
        "print(\"Sample Mean :- \",sample_mean)\n",
        "print(\"sample_std_dev :- \",sample_std_dev)"
      ],
      "execution_count": null,
      "outputs": [
        {
          "output_type": "stream",
          "text": [
            "20\n",
            "Sample Mean :-  4.25\n",
            "sample_std_dev :-  0.82915619758885\n"
          ],
          "name": "stdout"
        }
      ]
    },
    {
      "cell_type": "code",
      "metadata": {
        "colab": {
          "base_uri": "https://localhost:8080/"
        },
        "id": "Kw5Cx0W8hdl8",
        "outputId": "d49b78bc-85c3-46c0-8be2-9b9731e1752c"
      },
      "source": [
        "# Here we have sample's variance so we calculating the t-score\n",
        "\n",
        "t = t_score(sample_size, sample_mean, sample_std_dev, pop_mean)\n",
        "\n",
        "print(t)"
      ],
      "execution_count": null,
      "outputs": [
        {
          "output_type": "stream",
          "text": [
            "1.3483997249264843\n"
          ],
          "name": "stdout"
        }
      ]
    },
    {
      "cell_type": "code",
      "metadata": {
        "colab": {
          "base_uri": "https://localhost:8080/"
        },
        "id": "eFolJz7jhdnT",
        "outputId": "141fb8df-dfac-49cc-b9df-f542d082ae6f"
      },
      "source": [
        "# Two-Tail :- Calculating the z-critical\n",
        "\n",
        "confidence_level = 0.95\n",
        "\n",
        "alpha = 1 - confidence_level\n",
        "\n",
        "t_critical = scipy.stats.t.ppf(1-alpha,19)\n",
        "\n",
        "t_critical"
      ],
      "execution_count": null,
      "outputs": [
        {
          "output_type": "execute_result",
          "data": {
            "text/plain": [
              "1.729132811521367"
            ]
          },
          "metadata": {
            "tags": []
          },
          "execution_count": 86
        }
      ]
    },
    {
      "cell_type": "code",
      "metadata": {
        "colab": {
          "base_uri": "https://localhost:8080/",
          "height": 282
        },
        "id": "IEGCybt1hdoc",
        "outputId": "0c77d95a-1529-4c27-a912-71bd0b0186c2"
      },
      "source": [
        "# Plotting the sampling distribution rejection regions\n",
        "\n",
        "# Defining the x-minimum and x-maximum\n",
        "x_min = 3.5\n",
        "x_max = 4.5\n",
        "\n",
        "# Defining the population mean and sampling distribution standard deviation\n",
        "mean = pop_mean\n",
        "std_dev = sample_std_dev / sample_size**0.5\n",
        "\n",
        "# Plotting the graph and setting the x-limits\n",
        "x = np.linspace(x_min, x_max, 100)\n",
        "y = norm.pdf(x, mean, std_dev)\n",
        "plt.xlim(x_min, x_max)\n",
        "plt.plot(x, y)\n",
        "\n",
        "# Computing the left and right critical values (Two-Tailed Test)\n",
        "t_critical_right = pop_mean + (t_critical * std_dev)\n",
        "\n",
        "\n",
        "# Shading the right rejection redion\n",
        "x1 = np.linspace(t_critical_right, x_max, 100)\n",
        "y1 = norm.pdf(x1, mean, std_dev)\n",
        "plt.fill_between(x1, y1, color='blue')\n",
        "\n",
        "# Plotting the sample mean and concluding the results\n",
        "plt.scatter(sample_mean, 0)\n",
        "plt.annotate(\"x_bar\", (sample_mean, 0.1))\n",
        "\n",
        "# Results :- Here we fail to reject Null Hypothesis"
      ],
      "execution_count": null,
      "outputs": [
        {
          "output_type": "execute_result",
          "data": {
            "text/plain": [
              "Text(4.25, 0.1, 'x_bar')"
            ]
          },
          "metadata": {
            "tags": []
          },
          "execution_count": 87
        },
        {
          "output_type": "display_data",
          "data": {
            "image/png": "[encoded data removed]",
            "text/plain": [
              "<Figure size 432x288 with 1 Axes>"
            ]
          },
          "metadata": {
            "tags": [],
            "needs_background": "light"
          }
        }
      ]
    },
    {
      "cell_type": "code",
      "metadata": {
        "id": "-v3SDkEkhdp7",
        "colab": {
          "base_uri": "https://localhost:8080/"
        },
        "outputId": "6095f2c8-1884-4912-ef75-23b0b10262e0"
      },
      "source": [
        "# Conclusion using z test\n",
        "\n",
        "if(t > t_critical):\n",
        "    print(\"Reject Null Hypothesis\")\n",
        "else:\n",
        "    print(\"Fail to reject Null Hypothesis\")"
      ],
      "execution_count": null,
      "outputs": [
        {
          "output_type": "stream",
          "text": [
            "Fail to reject Null Hypothesis\n"
          ],
          "name": "stdout"
        }
      ]
    },
    {
      "cell_type": "code",
      "metadata": {
        "colab": {
          "base_uri": "https://localhost:8080/"
        },
        "id": "bm0domcQ9L_n",
        "outputId": "7ff3897c-c22c-49ef-cb43-fedf439968e7"
      },
      "source": [
        "# Conclusion using p test\n",
        "\n",
        "p_value = 1.0 - norm.cdf(np.abs(t))\n",
        "\n",
        "print(\"p_value = \", p_value)\n",
        "\n",
        "if(p_value < alpha):\n",
        "    print(\"Reject Null Hypothesis\")\n",
        "else:\n",
        "    print(\"Fail to reject Null Hypothesis\")"
      ],
      "execution_count": null,
      "outputs": [
        {
          "output_type": "stream",
          "text": [
            "p_value =  0.08876492620607679\n",
            "Fail to reject Null Hypothesis\n"
          ],
          "name": "stdout"
        }
      ]
    },
    {
      "cell_type": "markdown",
      "metadata": {
        "id": "w-Sau4EX9Zx5"
      },
      "source": [
        "\n",
        "\n",
        "---\n",
        "\n"
      ]
    },
    {
      "cell_type": "markdown",
      "metadata": {
        "id": "mYV4-7OQlr6J"
      },
      "source": [
        "**Question 03 :-**\n",
        "> **TATA has developed a better fuel management system for the SUV segment. They claim that with this system, on average the SUV's mileage is at least 15 km/litre? **\n",
        "\n",
        "Step 1 :-\n",
        "\n",
        "Alternate Hypothesis (Bold Claim)\n",
        "$$ H_{1}: {>14} $$\n",
        "\n",
        "\n",
        "Null Hypothesis (Status Duo)\n",
        "$$ H_{0}: {<= 15} $$\n",
        "\n",
        "Step 2 :-\n",
        "*   Collect a sample of size n=10\n",
        "\n",
        "$$ [14.08,14.13,15.65,13.78,16.26,14.97,15.36,15.81,14.53,16.79,15.78,16.98,13.23,15.43,15.46,13.88,14.31,14.41,15.76,15.38] $$ \n",
        "\n",
        "*   Collect sample mean\n",
        "\n",
        "$$ Sample\\ Mean \\ \\overline{(x)}={\\frac {\\sum {x}}{n}} = {\\frac {301.98}{20}}=15.099 $$\n",
        "\n",
        "Step 3 :- Compute Test Statistics\n",
        "\n",
        "In our example population variance is unknown so we need to find sample's variance and find t-score instead of z-score.\n",
        "\n",
        "\n",
        "*   Sample's Variance :- \n",
        "\n",
        "$$ {s}={\\frac {\\sum ({x}-{\\overline{x}})}{n-1}}=0.8291 $$\n",
        "\n",
        "*   Compute t-score\n",
        "\n",
        "    Where,\n",
        "\n",
        "* $\\overline {x}$ = 4.25\n",
        "* $\\mu $ = 4\n",
        "* ${s}$ = 0.8291\n",
        "* ${n}$ = 20\n",
        "\n",
        "\n",
        "$$ {t}={\\frac {\\overline{x} - \\mu}{\\frac {s}{\\sqrt {n}}}}={\\frac {4.25 - 4}{\\frac {0.8291}{\\sqrt {20}}}}={\\frac {0.25}{0.1854}}={1.348} $$\n",
        "\n",
        "\n",
        "Step 4 :- Decide $ \\alpha $ and significance level\n",
        "\n",
        "confidence_level = 0.95\n",
        "\n",
        "$$ 1-\\alpha = 0.95 $$ $$ \\alpha = 1 - 0.95 $$ $$ \\alpha = 0.05 $$\n",
        "\n",
        "Step 5 :\n",
        "\n",
        "5.1.  Apply decision rule\n",
        "\n",
        "5.2.   Compute p-value\n",
        "\n",
        "one tailed test \n",
        "\n",
        "$$ p \\ value =  (1.0-(cdf(test \\ statistics))) $$\n"
      ]
    },
    {
      "cell_type": "code",
      "metadata": {
        "colab": {
          "base_uri": "https://localhost:8080/"
        },
        "id": "j8YZHEy9pAAu",
        "outputId": "d0174700-5ebd-43be-e74a-1336e2d2157d"
      },
      "source": [
        "samples = [14.08,14.13,15.65,13.78,16.26,14.97,15.36,15.81,14.53,16.79,15.78,16.98,13.23,15.43,15.46,13.88,14.31,14.41,15.76,15.38]\n",
        "print(len(samples))\n",
        "sample_size = len(samples)\n",
        "sample_mean = sum(samples)/len(samples)\n",
        "sample_std_dev = np.std(samples)\n",
        "pop_mean = 15\n",
        "print(\"Sample Mean :- \",sample_mean)\n",
        "print(\"sample_std_dev :- \",sample_std_dev)"
      ],
      "execution_count": null,
      "outputs": [
        {
          "output_type": "stream",
          "text": [
            "20\n",
            "Sample Mean :-  15.098999999999998\n",
            "sample_std_dev :-  0.9994043225842081\n"
          ],
          "name": "stdout"
        }
      ]
    },
    {
      "cell_type": "code",
      "metadata": {
        "colab": {
          "base_uri": "https://localhost:8080/"
        },
        "id": "W41hBVAGpAEE",
        "outputId": "640f307f-8782-4912-d749-0ad537738e82"
      },
      "source": [
        "# Here we have sample's variance so we calculating the t-score\n",
        "\n",
        "t = t_score(sample_size, sample_mean, sample_std_dev, pop_mean)\n",
        "\n",
        "print(t)"
      ],
      "execution_count": null,
      "outputs": [
        {
          "output_type": "stream",
          "text": [
            "0.44300534782572615\n"
          ],
          "name": "stdout"
        }
      ]
    },
    {
      "cell_type": "code",
      "metadata": {
        "colab": {
          "base_uri": "https://localhost:8080/"
        },
        "id": "1Pe-u-qMpAFi",
        "outputId": "26947c4f-a12b-42bd-92b5-298aced386a3"
      },
      "source": [
        "# Two-Tail :- Calculating the z-critical\n",
        "\n",
        "confidence_level = 0.95\n",
        "\n",
        "alpha = 1 - confidence_level\n",
        "\n",
        "t_critical = scipy.stats.t.ppf(1-alpha,19)\n",
        "\n",
        "t_critical"
      ],
      "execution_count": null,
      "outputs": [
        {
          "output_type": "execute_result",
          "data": {
            "text/plain": [
              "1.729132811521367"
            ]
          },
          "metadata": {
            "tags": []
          },
          "execution_count": 92
        }
      ]
    },
    {
      "cell_type": "code",
      "metadata": {
        "colab": {
          "base_uri": "https://localhost:8080/",
          "height": 282
        },
        "id": "5FYMG_xCpAG8",
        "outputId": "c4b66e70-6d91-486f-80cd-1169a0cd339d"
      },
      "source": [
        "# Plotting the sampling distribution rejection regions\n",
        "\n",
        "# Defining the x-minimum and x-maximum\n",
        "x_min = 13\n",
        "x_max = 17\n",
        "\n",
        "# Defining the population mean and sampling distribution standard deviation\n",
        "mean = pop_mean\n",
        "std_dev = sample_std_dev / sample_size**0.5\n",
        "\n",
        "# Plotting the graph and setting the x-limits\n",
        "x = np.linspace(x_min, x_max, 100)\n",
        "y = norm.pdf(x, mean, std_dev)\n",
        "plt.xlim(x_min, x_max)\n",
        "plt.plot(x, y)\n",
        "\n",
        "# Computing the left and right critical values (Two-Tailed Test)\n",
        "t_critical_right = pop_mean + (t_critical * std_dev)\n",
        "\n",
        "\n",
        "# Shading the right rejection redion\n",
        "x1 = np.linspace(t_critical_right, x_max, 100)\n",
        "y1 = norm.pdf(x1, mean, std_dev)\n",
        "plt.fill_between(x1, y1, color='blue')\n",
        "\n",
        "# Plotting the sample mean and concluding the results\n",
        "plt.scatter(sample_mean, 0)\n",
        "plt.annotate(\"x_bar\", (sample_mean, 0.1))\n",
        "\n",
        "# Results :- Here we fail to reject Null Hypothesis"
      ],
      "execution_count": null,
      "outputs": [
        {
          "output_type": "execute_result",
          "data": {
            "text/plain": [
              "Text(15.098999999999998, 0.1, 'x_bar')"
            ]
          },
          "metadata": {
            "tags": []
          },
          "execution_count": 93
        },
        {
          "output_type": "display_data",
          "data": {
            "image/png": "[encoded data removed]",
            "text/plain": [
              "<Figure size 432x288 with 1 Axes>"
            ]
          },
          "metadata": {
            "tags": [],
            "needs_background": "light"
          }
        }
      ]
    },
    {
      "cell_type": "code",
      "metadata": {
        "colab": {
          "base_uri": "https://localhost:8080/"
        },
        "id": "jfS1DdgN9gok",
        "outputId": "1eb619a9-6853-4916-f5c4-c0e0139dc1a5"
      },
      "source": [
        "if(t > t_critical):\n",
        "    print(\"Reject Null Hypothesis\")\n",
        "else:\n",
        "    print(\"Fail to reject Null Hypothesis\")"
      ],
      "execution_count": null,
      "outputs": [
        {
          "output_type": "stream",
          "text": [
            "Fail to reject Null Hypothesis\n"
          ],
          "name": "stdout"
        }
      ]
    },
    {
      "cell_type": "code",
      "metadata": {
        "colab": {
          "base_uri": "https://localhost:8080/"
        },
        "id": "RHoZfWX89g2F",
        "outputId": "031ec1e6-4d0b-40f2-d66e-44988f1add54"
      },
      "source": [
        "p_value = 1.0 - norm.cdf(np.abs(t))\n",
        "\n",
        "print(\"p_value = \", p_value)\n",
        "\n",
        "if(p_value < alpha):\n",
        "    print(\"Reject Null Hypothesis\")\n",
        "else:\n",
        "    print(\"Fail to reject Null Hypothesis\")"
      ],
      "execution_count": null,
      "outputs": [
        {
          "output_type": "stream",
          "text": [
            "p_value =  0.32888093328445067\n",
            "Fail to reject Null Hypothesis\n"
          ],
          "name": "stdout"
        }
      ]
    },
    {
      "cell_type": "markdown",
      "metadata": {
        "id": "F62g1RFR3yC_"
      },
      "source": [
        "\n",
        "\n",
        "---\n",
        "\n"
      ]
    },
    {
      "cell_type": "markdown",
      "metadata": {
        "id": "MDYmQT5f3zvg"
      },
      "source": [
        "**Question 04 :-**\n",
        "> **You have developed a new Machine Learning Application and claim that on average it takes less than 100 ms to predict for any future datapoint. How do you convince your client about this claim?**\n",
        "\n",
        "Step 1 :-\n",
        "\n",
        "Alternate Hypothesis (Bold Claim)\n",
        "$$ H_{1}: {<100} $$\n",
        "\n",
        "\n",
        "Null Hypothesis (Status Duo)\n",
        "$$ H_{0}: {>=100} $$\n",
        "\n",
        "Step 2 :-\n",
        "*   Collect a sample of size n=100 \n",
        "\n",
        "*   Collect sample mean\n",
        "\n",
        "$$ Sample\\ Mean \\ \\overline{(x)}={\\frac {\\sum {x}}{n}} = 97.5 $$\n",
        "\n",
        "Step 3 :- Compute Test Statistics\n",
        "\n",
        "In our example population variance is unknown so we need to find sample's variance and find t-score instead of z-score.\n",
        "\n",
        "\n",
        "*   Sample's Variance :- \n",
        "\n",
        "$$ {s}={\\frac {\\sum ({x}-{\\overline{x}})}{n-1}}=7 $$\n",
        "\n",
        "*   Compute t-score\n",
        "\n",
        "    Where,\n",
        "\n",
        "* $\\overline {x}$ = 97.5\n",
        "* $\\mu $ = 100\n",
        "* ${s}$ = 7\n",
        "* ${n}$ = 100\n",
        "\n",
        "\n",
        "$$ {t}={\\frac {\\overline{x} - \\mu}{\\frac {s}{\\sqrt {n}}}}={\\frac {97.5 - 100}{\\frac {7}{\\sqrt {100}}}}={\\frac {-2.5}{0.7}}={-3.571} $$\n",
        "\n",
        "\n",
        "Step 4 :- Decide $ \\alpha $ and significance level\n",
        "\n",
        "confidence_level = 0.95\n",
        "\n",
        "$$ 1-\\alpha = 0.95 $$ $$ \\alpha = 1 - 0.95 $$ $$ \\alpha = 0.05 $$\n",
        "\n",
        "Step 5 :\n",
        "\n",
        "5.1.  Apply decision rule\n",
        "\n",
        "5.2.   Compute p-value\n",
        "\n",
        "one tailed test \n",
        "\n",
        "$$ p \\ value =  (1.0-(cdf(test \\ statistics))) $$"
      ]
    },
    {
      "cell_type": "code",
      "metadata": {
        "colab": {
          "base_uri": "https://localhost:8080/"
        },
        "id": "teoaBBMs7A0w",
        "outputId": "ed58543e-383b-44c6-9711-03988af2d187"
      },
      "source": [
        "sample_size = 100\n",
        "sample_mean = 97.5\n",
        "sample_std_dev = 7\n",
        "pop_mean = 100\n",
        "print(\"Sample Mean :- \",sample_mean)\n",
        "print(\"sample_std_dev :- \",sample_std_dev)"
      ],
      "execution_count": null,
      "outputs": [
        {
          "output_type": "stream",
          "text": [
            "Sample Mean :-  97.5\n",
            "sample_std_dev :-  7\n"
          ],
          "name": "stdout"
        }
      ]
    },
    {
      "cell_type": "code",
      "metadata": {
        "colab": {
          "base_uri": "https://localhost:8080/"
        },
        "id": "FxEJFbxI7A43",
        "outputId": "d0149b6b-e5a2-4086-bcdc-e61aae04626a"
      },
      "source": [
        "# Here we have sample's variance so we calculating the t-score\n",
        "\n",
        "t = t_score(sample_size, sample_mean, sample_std_dev, pop_mean)\n",
        "\n",
        "print(t)"
      ],
      "execution_count": null,
      "outputs": [
        {
          "output_type": "stream",
          "text": [
            "-3.5714285714285716\n"
          ],
          "name": "stdout"
        }
      ]
    },
    {
      "cell_type": "code",
      "metadata": {
        "colab": {
          "base_uri": "https://localhost:8080/"
        },
        "id": "ZXCgkFER7BGL",
        "outputId": "b2d74fb6-59e7-4b48-b149-cadb9e05b106"
      },
      "source": [
        "# Two-Tail :- Calculating the z-critical\n",
        "\n",
        "confidence_level = 0.95\n",
        "\n",
        "alpha = 1 - confidence_level\n",
        "\n",
        "t_critical = scipy.stats.t.ppf(1-alpha,19)\n",
        "\n",
        "t_critical"
      ],
      "execution_count": null,
      "outputs": [
        {
          "output_type": "execute_result",
          "data": {
            "text/plain": [
              "1.729132811521367"
            ]
          },
          "metadata": {
            "tags": []
          },
          "execution_count": 70
        }
      ]
    },
    {
      "cell_type": "code",
      "metadata": {
        "colab": {
          "base_uri": "https://localhost:8080/",
          "height": 282
        },
        "id": "SqgrZZqu7BQ0",
        "outputId": "be531ef6-a744-4cbc-fd27-72ed9909b4a9"
      },
      "source": [
        "# Plotting the sampling distribution rejection regions\n",
        "\n",
        "# Defining the x-minimum and x-maximum\n",
        "x_min = 95\n",
        "x_max = 105\n",
        "\n",
        "# Defining the population mean and sampling distribution standard deviation\n",
        "mean = pop_mean\n",
        "std_dev = sample_std_dev / sample_size**0.5\n",
        "\n",
        "# Plotting the graph and setting the x-limits\n",
        "x = np.linspace(x_min, x_max, 100)\n",
        "y = norm.pdf(x, mean, std_dev)\n",
        "plt.xlim(x_min, x_max)\n",
        "plt.plot(x, y)\n",
        "\n",
        "# Computing the left and right critical values (Two-Tailed Test)\n",
        "t_critical_left = pop_mean + (-t_critical * std_dev)\n",
        "\n",
        "\n",
        "# Shading the right rejection redion\n",
        "x1 = np.linspace(x_min, t_critical_left, 100)\n",
        "y1 = norm.pdf(x1, mean, std_dev)\n",
        "plt.fill_between(x1, y1, color='blue')\n",
        "\n",
        "# Plotting the sample mean and concluding the results\n",
        "plt.scatter(sample_mean, 0)\n",
        "plt.annotate(\"x_bar\", (sample_mean, 0.02))\n",
        "\n",
        "# Results :- Here we fail to reject Null Hypothesis"
      ],
      "execution_count": null,
      "outputs": [
        {
          "output_type": "execute_result",
          "data": {
            "text/plain": [
              "Text(97.5, 0.02, 'x_bar')"
            ]
          },
          "metadata": {
            "tags": []
          },
          "execution_count": 71
        },
        {
          "output_type": "display_data",
          "data": {
            "image/png": "[encoded data removed]",
            "text/plain": [
              "<Figure size 432x288 with 1 Axes>"
            ]
          },
          "metadata": {
            "tags": [],
            "needs_background": "light"
          }
        }
      ]
    },
    {
      "cell_type": "code",
      "metadata": {
        "colab": {
          "base_uri": "https://localhost:8080/"
        },
        "id": "IIJNwsjE74qW",
        "outputId": "a33b0864-f491-49bf-92f2-d798cc86ce0f"
      },
      "source": [
        "if(t < -t_critical):\n",
        "    print(\"Reject Null Hypothesis\")\n",
        "else:\n",
        "    print(\"Fail to reject Null Hypothesis\")"
      ],
      "execution_count": null,
      "outputs": [
        {
          "output_type": "stream",
          "text": [
            "Reject Null Hypothesis\n"
          ],
          "name": "stdout"
        }
      ]
    },
    {
      "cell_type": "code",
      "metadata": {
        "colab": {
          "base_uri": "https://localhost:8080/"
        },
        "id": "ciTpwz1Z74w2",
        "outputId": "5016234c-9da7-426d-8b95-8c29724e1e5b"
      },
      "source": [
        "p_value = 1.0 - norm.cdf(np.abs(t))\n",
        "\n",
        "print(\"p_value = \", p_value)\n",
        "\n",
        "if(p_value < 0.01):\n",
        "    print(\"Reject Null Hypothesis\")\n",
        "else:\n",
        "    print(\"Fail to reject Null Hypothesis\")"
      ],
      "execution_count": null,
      "outputs": [
        {
          "output_type": "stream",
          "text": [
            "p_value =  0.00017751969037349546\n",
            "Reject Null Hypothesis\n"
          ],
          "name": "stdout"
        }
      ]
    }
  ]
}