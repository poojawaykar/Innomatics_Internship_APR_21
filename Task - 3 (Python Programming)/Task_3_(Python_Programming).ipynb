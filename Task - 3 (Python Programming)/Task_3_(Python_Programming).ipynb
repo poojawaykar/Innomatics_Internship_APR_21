{
  "nbformat": 4,
  "nbformat_minor": 0,
  "metadata": {
    "colab": {
      "name": "Task - 3 (Python Programming).ipynb",
      "provenance": []
    },
    "kernelspec": {
      "name": "python3",
      "display_name": "Python 3"
    },
    "language_info": {
      "name": "python"
    }
  },
  "cells": [
    {
      "cell_type": "markdown",
      "metadata": {
        "id": "ap7KdbivFw3b"
      },
      "source": [
        "# Task - 3 (Python Programming)"
      ]
    },
    {
      "cell_type": "code",
      "metadata": {
        "colab": {
          "base_uri": "https://localhost:8080/"
        },
        "id": "lbxfVbC0EQnS",
        "outputId": "4bb6edd9-de3c-4da2-cb43-becc4fa07f63"
      },
      "source": [
        "# Question 01\n",
        "# Statement :- Polar Coordinates\n",
        "\n",
        "import cmath\n",
        "print(*cmath.polar(complex(input())), sep=\"\\n\")"
      ],
      "execution_count": null,
      "outputs": [
        {
          "output_type": "stream",
          "text": [
            "1+2j\n",
            "2.23606797749979\n",
            "1.1071487177940904\n"
          ],
          "name": "stdout"
        }
      ]
    },
    {
      "cell_type": "code",
      "metadata": {
        "id": "uHtEaf7OEaz7",
        "colab": {
          "base_uri": "https://localhost:8080/"
        },
        "outputId": "9ffd7875-57db-418e-a5de-bf563c84f9ff"
      },
      "source": [
        "# Question 02\n",
        "# Statement :- Find Angle MBC\n",
        "\n",
        "import math\n",
        "AB, BC = int(input()), int(input())\n",
        "#print(round(math.degrees(math.asin((math.hypot(AB, BC)/2)/BC))), chr(176), sep='')   # chr(176) for degree symbol\n",
        "print(str(int(round(math.degrees(math.atan2(AB,BC))))),chr(176),sep='')"
      ],
      "execution_count": null,
      "outputs": [
        {
          "output_type": "stream",
          "text": [
            "10\n",
            "10\n",
            "45°\n"
          ],
          "name": "stdout"
        }
      ]
    },
    {
      "cell_type": "code",
      "metadata": {
        "id": "GQv9AlX6Ea6U",
        "colab": {
          "base_uri": "https://localhost:8080/"
        },
        "outputId": "60fbe1ae-d3ca-4eb3-edd0-9550ce328661"
      },
      "source": [
        "# Question 03\n",
        "# Statement :- Triangle Quest 2\n",
        "\n",
        "for i in range(1, int(input())+1):\n",
        "  print((10**(i)//9)**2)"
      ],
      "execution_count": null,
      "outputs": [
        {
          "output_type": "stream",
          "text": [
            "5\n",
            "1\n",
            "121\n",
            "12321\n",
            "1234321\n",
            "123454321\n"
          ],
          "name": "stdout"
        }
      ]
    },
    {
      "cell_type": "code",
      "metadata": {
        "colab": {
          "base_uri": "https://localhost:8080/"
        },
        "id": "PfHl2gavEa71",
        "outputId": "4ba2af2b-f8da-4f10-f6fb-eccb58c10ea2"
      },
      "source": [
        "# Question 04\n",
        "# Statement :- Mod Divmod\n",
        "\n",
        "a, b = int(input()), int(input())\n",
        "\n",
        "m, n = a//b, a%b\n",
        "print(m,n, sep=\"\\n\")\n",
        "tuple = (m, n)\n",
        "print(tuple)"
      ],
      "execution_count": null,
      "outputs": [
        {
          "output_type": "stream",
          "text": [
            "177\n",
            "10\n",
            "17\n",
            "7\n",
            "(17, 7)\n"
          ],
          "name": "stdout"
        }
      ]
    },
    {
      "cell_type": "code",
      "metadata": {
        "colab": {
          "base_uri": "https://localhost:8080/"
        },
        "id": "E1lZw_J0EbAD",
        "outputId": "c65025d8-fd96-4cbd-ca7f-276533b9508a"
      },
      "source": [
        "# Question 05\n",
        "# Statement :- Power - Mod pow\n",
        "\n",
        "import math\n",
        "a, b, m = float(input()), float(input()), float(input())\n",
        "print(int(math.pow(a,b)), (int(math.pow(a,b)%m) if m>0 else \"Value of m Cannot be Negative.\"), sep=\"\\n\")"
      ],
      "execution_count": null,
      "outputs": [
        {
          "output_type": "stream",
          "text": [
            "3\n",
            "4\n",
            "5\n",
            "81\n",
            "1\n"
          ],
          "name": "stdout"
        }
      ]
    },
    {
      "cell_type": "code",
      "metadata": {
        "colab": {
          "base_uri": "https://localhost:8080/"
        },
        "id": "9VF68atjEtlA",
        "outputId": "dbe6614b-b8cc-4f21-d488-1b4f4168dc79"
      },
      "source": [
        "# Question 06\n",
        "# Statement :- Integers Come In All Sizes\n",
        "\n",
        "print(pow(int(input()), int(input())) + pow(int(input()), int(input())))"
      ],
      "execution_count": null,
      "outputs": [
        {
          "output_type": "stream",
          "text": [
            "9\n",
            "29\n",
            "7\n",
            "27\n",
            "4710194409608608369201743232\n"
          ],
          "name": "stdout"
        }
      ]
    },
    {
      "cell_type": "code",
      "metadata": {
        "colab": {
          "base_uri": "https://localhost:8080/"
        },
        "id": "oMn3IdPPEtoI",
        "outputId": "568d92ed-a753-49b7-fa95-cfe69cd9b224"
      },
      "source": [
        "# Question 07\n",
        "# Statement :- Triangle Quest\n",
        "\n",
        "for i in range(1, int(input())):\n",
        "  print((10**(i)//9)*i)"
      ],
      "execution_count": null,
      "outputs": [
        {
          "output_type": "stream",
          "text": [
            "5\n",
            "1\n",
            "22\n",
            "333\n",
            "4444\n"
          ],
          "name": "stdout"
        }
      ]
    }
  ]
}